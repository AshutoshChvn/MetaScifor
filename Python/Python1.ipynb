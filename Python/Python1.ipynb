{
 "cells": [
  {
   "cell_type": "code",
   "execution_count": 4,
   "id": "92f1097c-340e-466a-b97b-e23ab8d3640e",
   "metadata": {},
   "outputs": [
    {
     "name": "stdout",
     "output_type": "stream",
     "text": [
      "['False', 'None', 'True', 'and', 'as', 'assert', 'async', 'await', 'break', 'class', 'continue', 'def', 'del', 'elif', 'else', 'except', 'finally', 'for', 'from', 'global', 'if', 'import', 'in', 'is', 'lambda', 'nonlocal', 'not', 'or', 'pass', 'raise', 'return', 'try', 'while', 'with', 'yield']\n"
     ]
    }
   ],
   "source": [
    "import keyword\n",
    "print(keyword.kwlist)"
   ]
  },
  {
   "cell_type": "code",
   "execution_count": 26,
   "id": "dc7f6539-34d3-41ad-bae2-9831bf5f37c2",
   "metadata": {},
   "outputs": [
    {
     "data": {
      "text/plain": [
       "False"
      ]
     },
     "execution_count": 26,
     "metadata": {},
     "output_type": "execute_result"
    }
   ],
   "source": [
    "True and False"
   ]
  },
  {
   "cell_type": "code",
   "execution_count": 10,
   "id": "a75e3063-b06f-40b8-9eec-debef182b68e",
   "metadata": {},
   "outputs": [
    {
     "data": {
      "text/plain": [
       "True"
      ]
     },
     "execution_count": 10,
     "metadata": {},
     "output_type": "execute_result"
    }
   ],
   "source": [
    "True and True"
   ]
  },
  {
   "cell_type": "code",
   "execution_count": 22,
   "id": "9adace49-3204-4503-828f-0157275e0df9",
   "metadata": {},
   "outputs": [
    {
     "data": {
      "text/plain": [
       "True"
      ]
     },
     "execution_count": 22,
     "metadata": {},
     "output_type": "execute_result"
    }
   ],
   "source": [
    "True or False"
   ]
  },
  {
   "cell_type": "code",
   "execution_count": 24,
   "id": "c7c3b3d5-840a-4041-9bff-7528d85be0ba",
   "metadata": {},
   "outputs": [
    {
     "data": {
      "text/plain": [
       "True"
      ]
     },
     "execution_count": 24,
     "metadata": {},
     "output_type": "execute_result"
    }
   ],
   "source": [
    "True and False or True"
   ]
  },
  {
   "cell_type": "code",
   "execution_count": 14,
   "id": "e1f045fb-95da-432b-94a6-3e9bc226b8bb",
   "metadata": {},
   "outputs": [
    {
     "data": {
      "text/plain": [
       "False"
      ]
     },
     "execution_count": 14,
     "metadata": {},
     "output_type": "execute_result"
    }
   ],
   "source": [
    "5<5"
   ]
  },
  {
   "cell_type": "code",
   "execution_count": 16,
   "id": "337a6ab2-b571-4dc1-b985-a1b789f7ed82",
   "metadata": {},
   "outputs": [
    {
     "data": {
      "text/plain": [
       "True"
      ]
     },
     "execution_count": 16,
     "metadata": {},
     "output_type": "execute_result"
    }
   ],
   "source": [
    "5<=5"
   ]
  },
  {
   "cell_type": "code",
   "execution_count": 20,
   "id": "67f16c73-cb6e-4dfd-9419-8a66c7f03809",
   "metadata": {},
   "outputs": [
    {
     "data": {
      "text/plain": [
       "True"
      ]
     },
     "execution_count": 20,
     "metadata": {},
     "output_type": "execute_result"
    }
   ],
   "source": [
    "5==5"
   ]
  },
  {
   "cell_type": "code",
   "execution_count": 28,
   "id": "90d5f696-4939-4941-89c7-579de120838c",
   "metadata": {},
   "outputs": [],
   "source": [
    "a = 1\n",
    "b = 'str'\n",
    "c = 1.2\n",
    "d = True\n",
    "f = False"
   ]
  },
  {
   "cell_type": "code",
   "execution_count": 30,
   "id": "9a9e9230-07cf-4031-9d4f-079ce38a579e",
   "metadata": {},
   "outputs": [
    {
     "data": {
      "text/plain": [
       "int"
      ]
     },
     "execution_count": 30,
     "metadata": {},
     "output_type": "execute_result"
    }
   ],
   "source": [
    "type(a)"
   ]
  },
  {
   "cell_type": "code",
   "execution_count": 40,
   "id": "26b21275-c9b7-452e-82bb-5d9e8b487e51",
   "metadata": {},
   "outputs": [
    {
     "data": {
      "text/plain": [
       "str"
      ]
     },
     "execution_count": 40,
     "metadata": {},
     "output_type": "execute_result"
    }
   ],
   "source": [
    "type(b)"
   ]
  },
  {
   "cell_type": "code",
   "execution_count": 42,
   "id": "b831f052-061c-41ab-a955-2afdc18b6d61",
   "metadata": {},
   "outputs": [
    {
     "data": {
      "text/plain": [
       "float"
      ]
     },
     "execution_count": 42,
     "metadata": {},
     "output_type": "execute_result"
    }
   ],
   "source": [
    "type(c)"
   ]
  },
  {
   "cell_type": "code",
   "execution_count": 44,
   "id": "1587627d-2fb9-43b3-a84f-94fd146548bb",
   "metadata": {},
   "outputs": [
    {
     "data": {
      "text/plain": [
       "bool"
      ]
     },
     "execution_count": 44,
     "metadata": {},
     "output_type": "execute_result"
    }
   ],
   "source": [
    "type(d)"
   ]
  },
  {
   "cell_type": "code",
   "execution_count": 46,
   "id": "edf0daf7-513f-4443-b201-21306b47c3bf",
   "metadata": {},
   "outputs": [
    {
     "data": {
      "text/plain": [
       "bool"
      ]
     },
     "execution_count": 46,
     "metadata": {},
     "output_type": "execute_result"
    }
   ],
   "source": [
    "type(f)"
   ]
  },
  {
   "cell_type": "code",
   "execution_count": null,
   "id": "bb521081-b272-4875-9b4c-10d5407c4811",
   "metadata": {},
   "outputs": [],
   "source": []
  },
  {
   "cell_type": "code",
   "execution_count": 49,
   "id": "ea1ed4b5-d49c-45b6-b42b-1cf2c7d52cc5",
   "metadata": {},
   "outputs": [
    {
     "data": {
      "text/plain": [
       "2"
      ]
     },
     "execution_count": 49,
     "metadata": {},
     "output_type": "execute_result"
    }
   ],
   "source": [
    "1+1"
   ]
  },
  {
   "cell_type": "code",
   "execution_count": 53,
   "id": "71ce8875-54a9-47b9-932d-9aec39e7a10a",
   "metadata": {},
   "outputs": [
    {
     "name": "stdout",
     "output_type": "stream",
     "text": [
      "269\n"
     ]
    }
   ],
   "source": [
    "a = 213\n",
    "b = 56\n",
    "\n",
    "print(a+b)"
   ]
  },
  {
   "cell_type": "code",
   "execution_count": 55,
   "id": "99099fc5-fe6f-4c41-96be-ae362a80f6bb",
   "metadata": {},
   "outputs": [
    {
     "data": {
      "text/plain": [
       "426"
      ]
     },
     "execution_count": 55,
     "metadata": {},
     "output_type": "execute_result"
    }
   ],
   "source": [
    "a *2"
   ]
  },
  {
   "cell_type": "code",
   "execution_count": 57,
   "id": "bf419ae2-cbf3-491d-91fb-a46ab69e00de",
   "metadata": {},
   "outputs": [
    {
     "data": {
      "text/plain": [
       "14.0"
      ]
     },
     "execution_count": 57,
     "metadata": {},
     "output_type": "execute_result"
    }
   ],
   "source": [
    "b/4"
   ]
  },
  {
   "cell_type": "code",
   "execution_count": 59,
   "id": "2d52a7eb-3a6b-4e1b-94ed-0bd62b6bf291",
   "metadata": {},
   "outputs": [
    {
     "name": "stdout",
     "output_type": "stream",
     "text": [
      "269\n"
     ]
    }
   ],
   "source": [
    "c = a+b\n",
    "print(c)"
   ]
  },
  {
   "cell_type": "code",
   "execution_count": 61,
   "id": "4d5c91ce-1e83-485d-ae3a-bc377f07a0cd",
   "metadata": {},
   "outputs": [],
   "source": [
    "# complex no"
   ]
  },
  {
   "cell_type": "code",
   "execution_count": 63,
   "id": "942bb0ff-9b63-467f-9605-a0e91f62fe1d",
   "metadata": {},
   "outputs": [],
   "source": [
    "c = 2+5j"
   ]
  },
  {
   "cell_type": "code",
   "execution_count": 65,
   "id": "25ad5e96-dc60-4e9e-afc8-60f7f886612f",
   "metadata": {},
   "outputs": [
    {
     "data": {
      "text/plain": [
       "complex"
      ]
     },
     "execution_count": 65,
     "metadata": {},
     "output_type": "execute_result"
    }
   ],
   "source": [
    "type(c)"
   ]
  },
  {
   "cell_type": "code",
   "execution_count": 67,
   "id": "6067233f-f62f-4562-9b09-20712dddac88",
   "metadata": {},
   "outputs": [],
   "source": [
    "# STRING"
   ]
  },
  {
   "cell_type": "code",
   "execution_count": 71,
   "id": "f471b60f-7cce-41d2-8de1-fda811183d58",
   "metadata": {},
   "outputs": [
    {
     "name": "stdout",
     "output_type": "stream",
     "text": [
      "Ashutosh Chavan\n"
     ]
    }
   ],
   "source": [
    "a = 'Ashutosh'\n",
    "b = 'Chavan'\n",
    "print(a+\" \"+b)"
   ]
  },
  {
   "cell_type": "code",
   "execution_count": 73,
   "id": "96442adb-9f45-48de-827f-551b2cc2b062",
   "metadata": {},
   "outputs": [
    {
     "name": "stdout",
     "output_type": "stream",
     "text": [
      "AshutoshAshutoshAshutoshAshutoshAshutosh\n"
     ]
    }
   ],
   "source": [
    "print(a * 5)"
   ]
  },
  {
   "cell_type": "code",
   "execution_count": null,
   "id": "c48b74c3-a143-4b51-8b7f-c5f07e80f821",
   "metadata": {},
   "outputs": [],
   "source": []
  },
  {
   "cell_type": "raw",
   "id": "6d4036e6-4380-4cff-a698-0b7ca6a85034",
   "metadata": {},
   "source": [
    "# DATA STRUCTURES\n",
    "\n",
    "1. List\n",
    "2. Tuple\n",
    "3. Dictionary\n",
    "4. Set"
   ]
  },
  {
   "cell_type": "code",
   "execution_count": 92,
   "id": "15ec6f58-cecb-4785-b8a7-b2d66b6eadb3",
   "metadata": {},
   "outputs": [],
   "source": [
    "l1 = []\n",
    "t1 = ()\n",
    "s1 = {}\n",
    "s = set()"
   ]
  },
  {
   "cell_type": "code",
   "execution_count": 88,
   "id": "c3b390aa-cae2-428b-b438-ca26f0eff710",
   "metadata": {},
   "outputs": [
    {
     "data": {
      "text/plain": [
       "dict"
      ]
     },
     "execution_count": 88,
     "metadata": {},
     "output_type": "execute_result"
    }
   ],
   "source": [
    "type(s1)"
   ]
  },
  {
   "cell_type": "code",
   "execution_count": 82,
   "id": "b8a788a6-1c75-4e43-8e42-6e67689e2f24",
   "metadata": {},
   "outputs": [
    {
     "data": {
      "text/plain": [
       "list"
      ]
     },
     "execution_count": 82,
     "metadata": {},
     "output_type": "execute_result"
    }
   ],
   "source": [
    "type(l1)"
   ]
  },
  {
   "cell_type": "code",
   "execution_count": 90,
   "id": "8953abb7-efaa-45bf-8166-e5e5e62a6618",
   "metadata": {},
   "outputs": [
    {
     "data": {
      "text/plain": [
       "tuple"
      ]
     },
     "execution_count": 90,
     "metadata": {},
     "output_type": "execute_result"
    }
   ],
   "source": [
    "type(t1)"
   ]
  },
  {
   "cell_type": "code",
   "execution_count": 94,
   "id": "020803ba-1b98-42c0-9cd3-d93b53d801a6",
   "metadata": {},
   "outputs": [
    {
     "data": {
      "text/plain": [
       "set"
      ]
     },
     "execution_count": 94,
     "metadata": {},
     "output_type": "execute_result"
    }
   ],
   "source": [
    "type(s)"
   ]
  },
  {
   "cell_type": "code",
   "execution_count": 96,
   "id": "9f848c6f-0149-4728-aa24-f5721d90b206",
   "metadata": {},
   "outputs": [],
   "source": [
    "l1 = ['c','s','w','e','b']"
   ]
  },
  {
   "cell_type": "code",
   "execution_count": 98,
   "id": "e7d97615-b727-49ff-b82f-5f0de1251da2",
   "metadata": {},
   "outputs": [],
   "source": [
    "copy_l1=l1.copy()\n"
   ]
  },
  {
   "cell_type": "code",
   "execution_count": 100,
   "id": "3e8ab69c-5572-443c-845e-6ce7c111455d",
   "metadata": {},
   "outputs": [
    {
     "data": {
      "text/plain": [
       "['c', 's', 'w', 'e', 'b']"
      ]
     },
     "execution_count": 100,
     "metadata": {},
     "output_type": "execute_result"
    }
   ],
   "source": [
    "copy_l1"
   ]
  },
  {
   "cell_type": "code",
   "execution_count": 102,
   "id": "42ff9a39-7358-45b8-98b0-fc5291adf019",
   "metadata": {},
   "outputs": [
    {
     "data": {
      "text/plain": [
       "['A', 'S', 'H', 'U']"
      ]
     },
     "execution_count": 102,
     "metadata": {},
     "output_type": "execute_result"
    }
   ],
   "source": [
    "list('ASHU')"
   ]
  },
  {
   "cell_type": "code",
   "execution_count": 104,
   "id": "f6b63193-8842-4555-be46-0a1feb4f5003",
   "metadata": {},
   "outputs": [
    {
     "data": {
      "text/plain": [
       "['c', 's', 'w', 'e', 'b', 'ASHU']"
      ]
     },
     "execution_count": 104,
     "metadata": {},
     "output_type": "execute_result"
    }
   ],
   "source": [
    "l1.append('ASHU')\n",
    "l1"
   ]
  },
  {
   "cell_type": "code",
   "execution_count": 106,
   "id": "97eba798-a4bb-4850-82b9-c0107dd3401a",
   "metadata": {},
   "outputs": [],
   "source": [
    "l1.insert(4,'chavan')"
   ]
  },
  {
   "cell_type": "code",
   "execution_count": 108,
   "id": "8372ea15-1456-46b5-9adf-da606a3622f1",
   "metadata": {},
   "outputs": [
    {
     "data": {
      "text/plain": [
       "['c', 's', 'w', 'e', 'chavan', 'b', 'ASHU']"
      ]
     },
     "execution_count": 108,
     "metadata": {},
     "output_type": "execute_result"
    }
   ],
   "source": [
    "l1"
   ]
  },
  {
   "cell_type": "code",
   "execution_count": 110,
   "id": "0669f8af-2fa0-4548-8fd6-524e9146f6fd",
   "metadata": {},
   "outputs": [
    {
     "data": {
      "text/plain": [
       "7"
      ]
     },
     "execution_count": 110,
     "metadata": {},
     "output_type": "execute_result"
    }
   ],
   "source": [
    "len(l1)"
   ]
  },
  {
   "cell_type": "code",
   "execution_count": 114,
   "id": "5676f37d-b7fb-435f-a9cd-fcb36dbc2dc8",
   "metadata": {},
   "outputs": [],
   "source": [
    "l1=[1,3,2,37,5,7,4,3,72,8,6,0,43]\n"
   ]
  },
  {
   "cell_type": "code",
   "execution_count": 116,
   "id": "fa51f781-1937-464c-b53a-48f34c7fc144",
   "metadata": {},
   "outputs": [
    {
     "data": {
      "text/plain": [
       "[1, 3, 2, 16, 5, 7, 4, 3, 72, 8, 6, 0, 43]"
      ]
     },
     "execution_count": 116,
     "metadata": {},
     "output_type": "execute_result"
    }
   ],
   "source": [
    "l1[3]=16\n",
    "l1"
   ]
  },
  {
   "cell_type": "code",
   "execution_count": 120,
   "id": "783b4708-52a4-4b36-9cd1-5de07e750661",
   "metadata": {},
   "outputs": [
    {
     "data": {
      "text/plain": [
       "[2, 16, 5, 7, 4, 3, 72, 8, 6, 0, 43]"
      ]
     },
     "execution_count": 120,
     "metadata": {},
     "output_type": "execute_result"
    }
   ],
   "source": [
    "l1[2:]"
   ]
  },
  {
   "cell_type": "code",
   "execution_count": 124,
   "id": "b098248e-dc62-41b1-b792-ed8eb7151e51",
   "metadata": {},
   "outputs": [
    {
     "data": {
      "text/plain": [
       "[7, 4, 3, 72, 8, 6, 0, 43]"
      ]
     },
     "execution_count": 124,
     "metadata": {},
     "output_type": "execute_result"
    }
   ],
   "source": [
    "l1[5:]"
   ]
  },
  {
   "cell_type": "code",
   "execution_count": 126,
   "id": "3eb3211f-a4bb-44c1-8571-e5a2bdd1caa5",
   "metadata": {},
   "outputs": [
    {
     "data": {
      "text/plain": [
       "[1, 3, 2, 16, 5, 7, 4, 3, 72, 8, 6, 0]"
      ]
     },
     "execution_count": 126,
     "metadata": {},
     "output_type": "execute_result"
    }
   ],
   "source": [
    "l1[:-1]"
   ]
  },
  {
   "cell_type": "code",
   "execution_count": 128,
   "id": "d240868f-9f7d-47db-b342-eb21d2c58828",
   "metadata": {},
   "outputs": [
    {
     "data": {
      "text/plain": [
       "[1, 3, 2, 16, 5, 7, 4, 3, 72, 8]"
      ]
     },
     "execution_count": 128,
     "metadata": {},
     "output_type": "execute_result"
    }
   ],
   "source": [
    "l1[:-3]"
   ]
  },
  {
   "cell_type": "code",
   "execution_count": 132,
   "id": "952db829-5a75-49b0-b97e-95229228f0c4",
   "metadata": {},
   "outputs": [
    {
     "data": {
      "text/plain": [
       "[43, 0, 6, 8, 72, 3, 4, 7, 5, 16, 2, 3, 1]"
      ]
     },
     "execution_count": 132,
     "metadata": {},
     "output_type": "execute_result"
    }
   ],
   "source": [
    "l1[::-1] # reverse"
   ]
  },
  {
   "cell_type": "code",
   "execution_count": 146,
   "id": "ead39041-0382-41f0-a1d8-a7077c0914a3",
   "metadata": {},
   "outputs": [],
   "source": [
    "l1.reverse()\n"
   ]
  },
  {
   "cell_type": "code",
   "execution_count": 148,
   "id": "e0a39c12-7ca4-4c10-a38b-9da63a811797",
   "metadata": {},
   "outputs": [
    {
     "data": {
      "text/plain": [
       "[43, 0, 6, 8, 72, 3, 4, 7, 5, 16, 2, 3, 1]"
      ]
     },
     "execution_count": 148,
     "metadata": {},
     "output_type": "execute_result"
    }
   ],
   "source": [
    "l1"
   ]
  },
  {
   "cell_type": "code",
   "execution_count": 134,
   "id": "82ac4af4-579c-483a-8ffc-74af009f1705",
   "metadata": {},
   "outputs": [
    {
     "data": {
      "text/plain": [
       "2"
      ]
     },
     "execution_count": 134,
     "metadata": {},
     "output_type": "execute_result"
    }
   ],
   "source": [
    "l1.count(3)"
   ]
  },
  {
   "cell_type": "code",
   "execution_count": 136,
   "id": "7ae0edf7-35a2-406e-bfa2-a91e211be7db",
   "metadata": {},
   "outputs": [
    {
     "data": {
      "text/plain": [
       "['Ram', 'John', 'Vicky', ['amisha', 'khushi']]"
      ]
     },
     "execution_count": 136,
     "metadata": {},
     "output_type": "execute_result"
    }
   ],
   "source": [
    "lst = ['Ram','John','Vicky']\n",
    "lst.append(['amisha','khushi'])\n",
    "lst"
   ]
  },
  {
   "cell_type": "code",
   "execution_count": 140,
   "id": "4fa537ee-87d0-4120-93b3-52e280f262fb",
   "metadata": {},
   "outputs": [
    {
     "data": {
      "text/plain": [
       "['Ram', 'John', 'Vicky', ['amisha', 'khushi'], 'amisha', 'khusi']"
      ]
     },
     "execution_count": 140,
     "metadata": {},
     "output_type": "execute_result"
    }
   ],
   "source": [
    "lst.extend(['amisha','khusi'])\n",
    "lst"
   ]
  },
  {
   "cell_type": "code",
   "execution_count": 144,
   "id": "535ae964-11f7-4256-aa05-c1c234066b3f",
   "metadata": {},
   "outputs": [
    {
     "data": {
      "text/plain": [
       "['Ram', 'John', 'Vicky', ['amisha', 'khushi'], 'amisha']"
      ]
     },
     "execution_count": 144,
     "metadata": {},
     "output_type": "execute_result"
    }
   ],
   "source": [
    "lst.pop(-1)\n",
    "lst"
   ]
  },
  {
   "cell_type": "code",
   "execution_count": 152,
   "id": "c6a72ffd-59ad-4025-935e-1d429e3c205e",
   "metadata": {},
   "outputs": [],
   "source": [
    "l1.sort(reverse=1)"
   ]
  },
  {
   "cell_type": "code",
   "execution_count": 154,
   "id": "6d7cf74a-9400-4aad-a6eb-3409d171a096",
   "metadata": {},
   "outputs": [
    {
     "data": {
      "text/plain": [
       "[72, 43, 16, 8, 7, 6, 5, 4, 3, 3, 2, 1, 0]"
      ]
     },
     "execution_count": 154,
     "metadata": {},
     "output_type": "execute_result"
    }
   ],
   "source": [
    "l1"
   ]
  },
  {
   "cell_type": "code",
   "execution_count": 156,
   "id": "4e3b3150-85ad-49a0-b507-ed5f989f19e7",
   "metadata": {},
   "outputs": [],
   "source": [
    "#tuples are immutable"
   ]
  },
  {
   "cell_type": "code",
   "execution_count": 158,
   "id": "4eba9986-4569-486f-a943-41cfe0ed1a7e",
   "metadata": {},
   "outputs": [],
   "source": [
    "location=('Bengluru','Kolkata','Chennai','raipur')"
   ]
  },
  {
   "cell_type": "code",
   "execution_count": 160,
   "id": "1157cec9-e01a-4d1b-8e1a-5d24e8ab53e4",
   "metadata": {},
   "outputs": [
    {
     "data": {
      "text/plain": [
       "('Bengluru', 'Kolkata', 'Chennai', 'raipur')"
      ]
     },
     "execution_count": 160,
     "metadata": {},
     "output_type": "execute_result"
    }
   ],
   "source": [
    "location"
   ]
  },
  {
   "cell_type": "code",
   "execution_count": 164,
   "id": "c09e8e41-ea8f-4293-a687-611baaf2d4c8",
   "metadata": {},
   "outputs": [
    {
     "ename": "AttributeError",
     "evalue": "'tuple' object has no attribute 'append'",
     "output_type": "error",
     "traceback": [
      "\u001b[0;31m---------------------------------------------------------------------------\u001b[0m",
      "\u001b[0;31mAttributeError\u001b[0m                            Traceback (most recent call last)",
      "Cell \u001b[0;32mIn[164], line 1\u001b[0m\n\u001b[0;32m----> 1\u001b[0m location\u001b[38;5;241m.\u001b[39mappend(\u001b[38;5;124m'\u001b[39m\u001b[38;5;124mPune\u001b[39m\u001b[38;5;124m'\u001b[39m)\n",
      "\u001b[0;31mAttributeError\u001b[0m: 'tuple' object has no attribute 'append'"
     ]
    }
   ],
   "source": [
    "location.append('Pune')"
   ]
  },
  {
   "cell_type": "code",
   "execution_count": 166,
   "id": "a3d20ee7-7702-4c88-97b8-09a7ee294c50",
   "metadata": {},
   "outputs": [],
   "source": [
    "# we cannot append as it immutable"
   ]
  },
  {
   "cell_type": "code",
   "execution_count": 172,
   "id": "abedbbcc-e1ef-4b63-bf3b-92155b956336",
   "metadata": {},
   "outputs": [
    {
     "data": {
      "text/plain": [
       "set"
      ]
     },
     "execution_count": 172,
     "metadata": {},
     "output_type": "execute_result"
    }
   ],
   "source": [
    "s1 = set()\n",
    "type(s1)"
   ]
  },
  {
   "cell_type": "code",
   "execution_count": 174,
   "id": "8a09eae2-7392-4c5a-bbfe-7ddd60838112",
   "metadata": {},
   "outputs": [
    {
     "data": {
      "text/plain": [
       "{2}"
      ]
     },
     "execution_count": 174,
     "metadata": {},
     "output_type": "execute_result"
    }
   ],
   "source": [
    "s1.add(2)\n",
    "s1"
   ]
  },
  {
   "cell_type": "code",
   "execution_count": 178,
   "id": "249bac05-d41d-4a0f-89b0-2715a11f0f6c",
   "metadata": {},
   "outputs": [
    {
     "data": {
      "text/plain": [
       "{2, 5}"
      ]
     },
     "execution_count": 178,
     "metadata": {},
     "output_type": "execute_result"
    }
   ],
   "source": [
    "s1.add(5)\n",
    "s1"
   ]
  },
  {
   "cell_type": "code",
   "execution_count": 180,
   "id": "f21d6388-d84e-4c20-b213-95261d13308c",
   "metadata": {},
   "outputs": [
    {
     "data": {
      "text/plain": [
       "{2, 5}"
      ]
     },
     "execution_count": 180,
     "metadata": {},
     "output_type": "execute_result"
    }
   ],
   "source": [
    "s1.add(5)\n",
    "s1"
   ]
  },
  {
   "cell_type": "code",
   "execution_count": 184,
   "id": "047f74a0-3d40-442a-a7f3-722ebe60253b",
   "metadata": {},
   "outputs": [],
   "source": [
    "# cannot add multiple same elements\n",
    "# we can remove duplicates from list by converting into set and back to list"
   ]
  },
  {
   "cell_type": "code",
   "execution_count": 186,
   "id": "0c9cd360-5c2c-4d6b-8674-3c6e6532372c",
   "metadata": {},
   "outputs": [],
   "source": [
    "l1 = [1,1,2,2,3,4,5]"
   ]
  },
  {
   "cell_type": "code",
   "execution_count": 188,
   "id": "19d3259b-e302-4098-af9a-633e347c4842",
   "metadata": {},
   "outputs": [
    {
     "data": {
      "text/plain": [
       "{1, 2, 3, 4, 5}"
      ]
     },
     "execution_count": 188,
     "metadata": {},
     "output_type": "execute_result"
    }
   ],
   "source": [
    "l1 = set(l1)\n",
    "l1"
   ]
  },
  {
   "cell_type": "code",
   "execution_count": 190,
   "id": "e178d5de-9754-4907-ba78-18774cd0ef2e",
   "metadata": {},
   "outputs": [],
   "source": [
    "# Dictionary\n",
    "my_dict={'Roll Number':123,'Subjects':['Maths','science','Computer'],'Marks':[24,29,25]}\n"
   ]
  },
  {
   "cell_type": "code",
   "execution_count": 192,
   "id": "5d0a7089-5d16-4cd0-81ee-87fbffb014ce",
   "metadata": {},
   "outputs": [
    {
     "data": {
      "text/plain": [
       "{'Roll Number': 123,\n",
       " 'Subjects': ['Maths', 'science', 'Computer'],\n",
       " 'Marks': [24, 29, 25]}"
      ]
     },
     "execution_count": 192,
     "metadata": {},
     "output_type": "execute_result"
    }
   ],
   "source": [
    "my_dict"
   ]
  },
  {
   "cell_type": "code",
   "execution_count": 194,
   "id": "b211f7b3-e36b-4498-b32e-30e2a357c9a0",
   "metadata": {},
   "outputs": [
    {
     "data": {
      "text/plain": [
       "123"
      ]
     },
     "execution_count": 194,
     "metadata": {},
     "output_type": "execute_result"
    }
   ],
   "source": [
    "my_dict['Roll Number']"
   ]
  },
  {
   "cell_type": "code",
   "execution_count": 202,
   "id": "578df208-7327-4db6-bdf8-236fd46279e7",
   "metadata": {},
   "outputs": [
    {
     "data": {
      "text/plain": [
       "'science'"
      ]
     },
     "execution_count": 202,
     "metadata": {},
     "output_type": "execute_result"
    }
   ],
   "source": [
    "my_dict['Subjects'][1]"
   ]
  },
  {
   "cell_type": "code",
   "execution_count": 204,
   "id": "5827bb8e-cda9-4502-b6c0-2e838d18991e",
   "metadata": {},
   "outputs": [],
   "source": [
    "my_dict['Marks'][0]=my_dict['Marks'][0]+6\n"
   ]
  },
  {
   "cell_type": "code",
   "execution_count": 206,
   "id": "0a56836b-d869-45e8-b6c8-64bccb83720b",
   "metadata": {},
   "outputs": [
    {
     "data": {
      "text/plain": [
       "{'Roll Number': 123,\n",
       " 'Subjects': ['Maths', 'science', 'Computer'],\n",
       " 'Marks': [30, 29, 25]}"
      ]
     },
     "execution_count": 206,
     "metadata": {},
     "output_type": "execute_result"
    }
   ],
   "source": [
    "my_dict"
   ]
  },
  {
   "cell_type": "code",
   "execution_count": 208,
   "id": "a00d0dc9-e2e1-4ed3-adf0-bff0834c007c",
   "metadata": {},
   "outputs": [],
   "source": [
    "my_dict['Year']=2015\n"
   ]
  },
  {
   "cell_type": "code",
   "execution_count": 210,
   "id": "0a07dd17-1fec-4e15-a8d9-fb5da75c65e4",
   "metadata": {},
   "outputs": [
    {
     "data": {
      "text/plain": [
       "{'Roll Number': 123,\n",
       " 'Subjects': ['Maths', 'science', 'Computer'],\n",
       " 'Marks': [30, 29, 25],\n",
       " 'Year': 2015}"
      ]
     },
     "execution_count": 210,
     "metadata": {},
     "output_type": "execute_result"
    }
   ],
   "source": [
    "my_dict"
   ]
  },
  {
   "cell_type": "code",
   "execution_count": 212,
   "id": "cbfe1089-87be-4007-a0cf-8507d8386674",
   "metadata": {},
   "outputs": [
    {
     "data": {
      "text/plain": [
       "{'Roll Number': 100,\n",
       " 'Subjects': ['Maths', 'science', 'Computer'],\n",
       " 'Marks': [30, 29, 25],\n",
       " 'Year': 2015}"
      ]
     },
     "execution_count": 212,
     "metadata": {},
     "output_type": "execute_result"
    }
   ],
   "source": [
    "my_dict.update({'Roll Number':100})\n",
    "my_dict"
   ]
  },
  {
   "cell_type": "code",
   "execution_count": null,
   "id": "f4057993-8486-4ece-8fce-9c7b43c088c8",
   "metadata": {},
   "outputs": [],
   "source": []
  }
 ],
 "metadata": {
  "kernelspec": {
   "display_name": "Python 3 (ipykernel)",
   "language": "python",
   "name": "python3"
  },
  "language_info": {
   "codemirror_mode": {
    "name": "ipython",
    "version": 3
   },
   "file_extension": ".py",
   "mimetype": "text/x-python",
   "name": "python",
   "nbconvert_exporter": "python",
   "pygments_lexer": "ipython3",
   "version": "3.12.7"
  }
 },
 "nbformat": 4,
 "nbformat_minor": 5
}
