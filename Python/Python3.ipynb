{
 "cells": [
  {
   "cell_type": "code",
   "execution_count": null,
   "id": "3e7882ca-46ff-4b8c-8499-9a1a6ab80d9c",
   "metadata": {},
   "outputs": [],
   "source": [
    "#If else :"
   ]
  },
  {
   "cell_type": "code",
   "execution_count": 4,
   "id": "7cea8998-7c1f-4a20-a946-305b55faa294",
   "metadata": {},
   "outputs": [
    {
     "name": "stdout",
     "output_type": "stream",
     "text": [
      "i is greater\n"
     ]
    }
   ],
   "source": [
    "# printing i is greater condition as 12 is greater than 11\n",
    "# 12 stored in i variable\n",
    "# then we are comparing i with 11\n",
    "\n",
    "i =12\n",
    "if i<11: \n",
    "    print('i is samller')\n",
    "else:\n",
    "    print('i is greater')\n",
    "    \n"
   ]
  },
  {
   "cell_type": "code",
   "execution_count": 8,
   "id": "b163324e-058a-4548-9393-0c9d1cf4db70",
   "metadata": {},
   "outputs": [
    {
     "name": "stdout",
     "output_type": "stream",
     "text": [
      "Your item in eligible for free shipping\n"
     ]
    }
   ],
   "source": [
    "# prints else condition as if condition not satisfied\n",
    "\n",
    "item_1=20\n",
    "item_2=440\n",
    "\n",
    "if (item_1+item_2)>=310:\n",
    "    print('Your item in eligible for free shipping')\n",
    "else:\n",
    "    extra=310-(item_1+item_2)\n",
    "    print('please add',extra,'Rs worth for free shipping')   \n",
    "\n"
   ]
  },
  {
   "cell_type": "code",
   "execution_count": 47,
   "id": "7c962c61-40b5-4ead-a23d-593affe85f4c",
   "metadata": {},
   "outputs": [
    {
     "name": "stdout",
     "output_type": "stream",
     "text": [
      "60 Congrats!! u got First class\n"
     ]
    }
   ],
   "source": [
    "# marks = 60 hence 1st if condition passed but its less than 70 so\n",
    "# prints else part\n",
    "\n",
    "marks=60\n",
    "\n",
    "if marks>=60:\n",
    "    if  marks>70:\n",
    "        print(marks,'Congrats!! u got distiction')\n",
    "    else:\n",
    "        print(marks,'Congrats!! u got First class')\n",
    "elif marks>50 and marks<60:\n",
    "    print(marks,'Congrats!! u got second division')\n",
    "elif marks>35:\n",
    "    print(marks,'Just pass, try harder!!')\n",
    "else:\n",
    "    ('marks','Fail Better luck next time')\n",
    "\n"
   ]
  },
  {
   "cell_type": "code",
   "execution_count": null,
   "id": "282d0dd0-391b-44ab-8816-19e2299a5a68",
   "metadata": {},
   "outputs": [],
   "source": []
  },
  {
   "cell_type": "code",
   "execution_count": 15,
   "id": "87255061-e3fd-497e-a53a-c5961d58d7a0",
   "metadata": {},
   "outputs": [],
   "source": [
    "# LOOPS : \n",
    "# 1.for \n",
    "# 2.while"
   ]
  },
  {
   "cell_type": "code",
   "execution_count": 21,
   "id": "295aade9-f5e2-4525-b048-0661385d6089",
   "metadata": {},
   "outputs": [
    {
     "name": "stdout",
     "output_type": "stream",
     "text": [
      "0\n",
      "10\n",
      "20\n",
      "30\n",
      "40\n",
      "50\n",
      "60\n",
      "70\n",
      "80\n",
      "90\n"
     ]
    }
   ],
   "source": [
    "for i in range(0,100,10):\n",
    "    print(i)\n",
    "\n",
    "# printing numbers from 0-90 as we given step of 10"
   ]
  },
  {
   "cell_type": "code",
   "execution_count": 29,
   "id": "517d3771-3cfc-464a-8c19-8e63cf0e73b5",
   "metadata": {},
   "outputs": [
    {
     "name": "stdout",
     "output_type": "stream",
     "text": [
      "100\n",
      "90\n",
      "80\n",
      "70\n",
      "60\n",
      "50\n",
      "40\n",
      "30\n",
      "20\n",
      "10\n"
     ]
    }
   ],
   "source": [
    "for i in range(100,0,-10):\n",
    "    print(i)\n",
    "\n",
    "# printing numbers from 100-10 as we given step of -10 ('-': reverse)"
   ]
  },
  {
   "cell_type": "code",
   "execution_count": 31,
   "id": "a5f07198-814e-472e-820f-89c0d6259015",
   "metadata": {},
   "outputs": [],
   "source": [
    "location=[\"Korba\",\"Bilaspur\",\"Raipur\",\"Patna\",\"Siwan\"]"
   ]
  },
  {
   "cell_type": "code",
   "execution_count": 41,
   "id": "31591d9a-b6f2-4b45-aa3d-fff7df1fedf8",
   "metadata": {},
   "outputs": [
    {
     "name": "stdout",
     "output_type": "stream",
     "text": [
      "0\n",
      "1\n",
      "2\n",
      "3\n",
      "4\n"
     ]
    }
   ],
   "source": [
    "for i in range(len(location)):\n",
    "    print(i)\n",
    "\n",
    "# here we are looping on index of each string in a list"
   ]
  },
  {
   "cell_type": "code",
   "execution_count": 45,
   "id": "be8babdb-2adb-424b-b620-2e907cbf9ae0",
   "metadata": {},
   "outputs": [
    {
     "name": "stdout",
     "output_type": "stream",
     "text": [
      "Korba\n"
     ]
    }
   ],
   "source": [
    "for i in location:\n",
    "    if i==\"Korba\":\n",
    "        print(i)\n",
    "        break\n",
    "    else:\n",
    "        print('Not found')\n",
    "\n",
    "# here if we found KORBA in our list we are printing and exiting loop\n",
    "# using break\n",
    "# if KORBA is not in list it will return not found from else part"
   ]
  },
  {
   "cell_type": "code",
   "execution_count": null,
   "id": "6f3cbeb2-887d-4362-a81c-eafa9ef0442f",
   "metadata": {},
   "outputs": [],
   "source": []
  }
 ],
 "metadata": {
  "kernelspec": {
   "display_name": "Python 3 (ipykernel)",
   "language": "python",
   "name": "python3"
  },
  "language_info": {
   "codemirror_mode": {
    "name": "ipython",
    "version": 3
   },
   "file_extension": ".py",
   "mimetype": "text/x-python",
   "name": "python",
   "nbconvert_exporter": "python",
   "pygments_lexer": "ipython3",
   "version": "3.12.7"
  }
 },
 "nbformat": 4,
 "nbformat_minor": 5
}
