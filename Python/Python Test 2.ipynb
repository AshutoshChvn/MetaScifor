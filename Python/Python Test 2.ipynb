{
 "cells": [
  {
   "cell_type": "raw",
   "id": "76815098-aef1-4f38-b6b3-a4f4f8c8a881",
   "metadata": {},
   "source": [
    "1.List five Python keywords and describe what they do.\n",
    "\n",
    "if: This is a keyword used to introduce a condition and execute the corresponding codeblock.\n",
    "while: This is used to create a loop that executes till the specified condition is valid.\n",
    "for: This also is used to create a loop that executes till the specified condition is valid.\n",
    "continue: This keyword continues executing the rest oof the code.\n",
    "return: marks the end of execution and returns the desired result."
   ]
  },
  {
   "cell_type": "code",
   "execution_count": 144,
   "id": "1dea9005-74a8-413c-8c32-a377df7312c8",
   "metadata": {},
   "outputs": [
    {
     "data": {
      "text/plain": [
       "50"
      ]
     },
     "execution_count": 144,
     "metadata": {},
     "output_type": "execute_result"
    }
   ],
   "source": [
    "#2. Write an expression to calculate the area of a rectangle with a length of 5 and width of 10.\n",
    "\n",
    "length=5\n",
    "width=10\n",
    "area=width*length\n",
    "area\n"
   ]
  },
  {
   "cell_type": "code",
   "execution_count": 142,
   "id": "8d8aff03-4ee8-4b6d-b2a8-bce20dafaa47",
   "metadata": {},
   "outputs": [
    {
     "name": "stdout",
     "output_type": "stream",
     "text": [
      "False\n"
     ]
    }
   ],
   "source": [
    "#3. Use the is keyword to check if two variables point to the same object\n",
    "\n",
    "a = 'Jungle'\n",
    "b = 'Amazing'\n",
    "print(a is b)  # Output: False\n"
   ]
  },
  {
   "cell_type": "code",
   "execution_count": 140,
   "id": "412cf72b-0092-4b3f-9b8f-79a152d8b481",
   "metadata": {},
   "outputs": [
    {
     "data": {
      "text/plain": [
       "6.2"
      ]
     },
     "execution_count": 140,
     "metadata": {},
     "output_type": "execute_result"
    }
   ],
   "source": [
    "#4. Write a Python expression that combines addition, subtraction, multiplication, and division\n",
    "\n",
    "a=7\n",
    "b=12\n",
    "c=(a+b*2)/5\n",
    "c\n"
   ]
  },
  {
   "cell_type": "code",
   "execution_count": 138,
   "id": "5ff5abfa-f6cb-4296-bb79-2102dd1c1124",
   "metadata": {},
   "outputs": [
    {
     "data": {
      "text/plain": [
       "1"
      ]
     },
     "execution_count": 138,
     "metadata": {},
     "output_type": "execute_result"
    }
   ],
   "source": [
    "#5. What is the output of 10 % 3? Explain why\n",
    "\n",
    "ans=10%3\n",
    "ans\n",
    "\n",
    "#Here, we use the % operator to obtain a remainder as result\n"
   ]
  },
  {
   "cell_type": "code",
   "execution_count": 136,
   "id": "e7b9c858-da09-451a-abe8-a26478acc07d",
   "metadata": {},
   "outputs": [
    {
     "data": {
      "text/plain": [
       "float"
      ]
     },
     "execution_count": 136,
     "metadata": {},
     "output_type": "execute_result"
    }
   ],
   "source": [
    "#6. Check the type of the value 3.14 in Python.\n",
    "\n",
    "a=3.14\n",
    "type(a)\n",
    "    "
   ]
  },
  {
   "cell_type": "code",
   "execution_count": 134,
   "id": "e517ed72-8f80-4c53-993b-c21558766585",
   "metadata": {},
   "outputs": [
    {
     "name": "stdout",
     "output_type": "stream",
     "text": [
      "10.0 10\n"
     ]
    }
   ],
   "source": [
    "#7. Convert the integer 10 to a float and a string. Print the results.\n",
    "\n",
    "a=float(10)\n",
    "b=str(10)\n",
    "print(a,b)\n"
   ]
  },
  {
   "cell_type": "code",
   "execution_count": 132,
   "id": "3e049cec-a31b-49fe-822a-8d2e8c1983e6",
   "metadata": {},
   "outputs": [
    {
     "data": {
      "text/plain": [
       "'Ashu Chavan'"
      ]
     },
     "execution_count": 132,
     "metadata": {},
     "output_type": "execute_result"
    }
   ],
   "source": [
    "#8. Write a statement to add two strings and print the result.\n",
    "\n",
    "strA='Ashu'\n",
    "strB=' Chavan'\n",
    "strA+strB\n"
   ]
  },
  {
   "cell_type": "code",
   "execution_count": 128,
   "id": "5961b5c5-7afe-4cde-a945-bdca395f52d0",
   "metadata": {},
   "outputs": [
    {
     "data": {
      "text/plain": [
       "bool"
      ]
     },
     "execution_count": 128,
     "metadata": {},
     "output_type": "execute_result"
    }
   ],
   "source": [
    "#9. What data type would the result of 3 > 2 be?\n",
    "\n",
    "type(3>2)\n",
    "    "
   ]
  },
  {
   "cell_type": "code",
   "execution_count": 126,
   "id": "825955cf-8fe7-4d73-87af-9ff5a45f9864",
   "metadata": {},
   "outputs": [
    {
     "data": {
      "text/plain": [
       "int"
      ]
     },
     "execution_count": 126,
     "metadata": {},
     "output_type": "execute_result"
    }
   ],
   "source": [
    "#10. How can you convert a string \"123\" into an integer?\n",
    "\n",
    "a=str(123)\n",
    "b=int(a)\n",
    "type(b)\n"
   ]
  },
  {
   "cell_type": "code",
   "execution_count": 124,
   "id": "510cf260-a815-496c-8858-03e68ca23d86",
   "metadata": {},
   "outputs": [
    {
     "name": "stdout",
     "output_type": "stream",
     "text": [
      "3\n"
     ]
    }
   ],
   "source": [
    "#11. Create a list of 5 elements and print the third element.\n",
    "\n",
    "lst=[1,2,3,5,7]\n",
    "print(lst[2])\n"
   ]
  },
  {
   "cell_type": "code",
   "execution_count": 122,
   "id": "94ed0e96-8755-43d7-b85a-c11fb9f327fb",
   "metadata": {},
   "outputs": [
    {
     "data": {
      "text/plain": [
       "[1, 6, 90, 76, 89, 88]"
      ]
     },
     "execution_count": 122,
     "metadata": {},
     "output_type": "execute_result"
    }
   ],
   "source": [
    "#12. Add a new element to a list called my_list using the .append() method.\n",
    "\n",
    "my_list=[1,6,90,76,89]\n",
    "my_list.append(88)\n",
    "my_list\n"
   ]
  },
  {
   "cell_type": "code",
   "execution_count": 120,
   "id": "f3afe267-0d1d-4af3-92bd-6b879c2a6a64",
   "metadata": {},
   "outputs": [
    {
     "data": {
      "text/plain": [
       "89"
      ]
     },
     "execution_count": 120,
     "metadata": {},
     "output_type": "execute_result"
    }
   ],
   "source": [
    "#13. Remove the last element from a list my_list using the .pop() method.\n",
    "\n",
    "my_list=[1,6,90,76,89]\n",
    "my_list.pop()\n"
   ]
  },
  {
   "cell_type": "code",
   "execution_count": 118,
   "id": "07c39321-4c40-4710-bef3-709a91ac7043",
   "metadata": {},
   "outputs": [
    {
     "data": {
      "text/plain": [
       "[1, 8, 8, 9]"
      ]
     },
     "execution_count": 118,
     "metadata": {},
     "output_type": "execute_result"
    }
   ],
   "source": [
    "#14. Create a tuple with four elements and try changing the second element. What happens?\n",
    "\n",
    "tup=[1,2,8,9]\n",
    "tup[1]=8\n",
    "tup\n",
    "#the second element gets changed"
   ]
  },
  {
   "cell_type": "code",
   "execution_count": 116,
   "id": "1df2adc6-59b7-4a29-ba24-9d87b45fa7c0",
   "metadata": {},
   "outputs": [
    {
     "name": "stdout",
     "output_type": "stream",
     "text": [
      "[40, 50]\n"
     ]
    }
   ],
   "source": [
    "#15. Use slicing to get the last two elements from a list `[10, 20, 30, 40, 50]\n",
    "\n",
    "my_list = [10, 20, 30, 40, 50]\n",
    "last_two = my_list[-2:]\n",
    "print(last_two)\n"
   ]
  },
  {
   "cell_type": "code",
   "execution_count": 114,
   "id": "0515dcc2-cf79-41e7-8a03-250a780a3b74",
   "metadata": {},
   "outputs": [
    {
     "data": {
      "text/plain": [
       "[2, 5, 99, 100]"
      ]
     },
     "execution_count": 114,
     "metadata": {},
     "output_type": "execute_result"
    }
   ],
   "source": [
    "#16. Create a tuple with four elements and try changing the second element. What happens?\n",
    "\n",
    "\n",
    "tup=[2,8,99,100]\n",
    "tup[1]=5\n",
    "tup\n",
    "#in case of tuple, the element remains unchanged\n"
   ]
  },
  {
   "cell_type": "code",
   "execution_count": 110,
   "id": "f62e590b-338e-43d1-821d-fe0d18252d20",
   "metadata": {},
   "outputs": [
    {
     "data": {
      "text/plain": [
       "[40, 50]"
      ]
     },
     "execution_count": 110,
     "metadata": {},
     "output_type": "execute_result"
    }
   ],
   "source": [
    "#17. Use slicing to get the last two elements from a list [10, 20, 30, 40, 50]\n",
    "\n",
    "lst=[10, 20, 30, 40, 50]\n",
    "lst[-2:]\n"
   ]
  },
  {
   "cell_type": "code",
   "execution_count": 106,
   "id": "2ece9624-8ed6-4983-ac86-e04b9ea38b66",
   "metadata": {},
   "outputs": [
    {
     "data": {
      "text/plain": [
       "{'name': 'Alice', 'age': 25}"
      ]
     },
     "execution_count": 106,
     "metadata": {},
     "output_type": "execute_result"
    }
   ],
   "source": [
    "#18. Create a dictionary with keys 'name' and 'age' and values 'Alice' and 25.\n",
    "\n",
    "dict={'name':'Alice', 'age':25}\n",
    "dict\n"
   ]
  },
  {
   "cell_type": "code",
   "execution_count": 104,
   "id": "b6d2520b-680a-4415-a632-81412ed18a61",
   "metadata": {},
   "outputs": [
    {
     "data": {
      "text/plain": [
       "'Alice'"
      ]
     },
     "execution_count": 104,
     "metadata": {},
     "output_type": "execute_result"
    }
   ],
   "source": [
    "#19. Retrieve the value associated with the key 'name' from the dictionary you created in question 16.\n",
    "\n",
    "dict={'name':'Alice', 'age':25}\n",
    "dict['name']\n"
   ]
  },
  {
   "cell_type": "code",
   "execution_count": 102,
   "id": "9f2e82d6-df26-4080-8f87-3ec087350417",
   "metadata": {},
   "outputs": [
    {
     "data": {
      "text/plain": [
       "True"
      ]
     },
     "execution_count": 102,
     "metadata": {},
     "output_type": "execute_result"
    }
   ],
   "source": [
    "#20. Check if the key 'name' exists in a dictionary\n",
    "\n",
    "dict={'name':'Alice', 'age':25}\n",
    "'name' in dict\n"
   ]
  },
  {
   "cell_type": "code",
   "execution_count": null,
   "id": "81c93f3e-efc9-47c7-8cab-6abc550919be",
   "metadata": {},
   "outputs": [],
   "source": [
    "21. What is the difference between a list and a set in Python?\n",
    "In case of sets, elements will not be repeated, while in case of list, elements can be repeated. Also, lists are within square brackets[], while sets are written within {}.\n"
   ]
  },
  {
   "cell_type": "code",
   "execution_count": 100,
   "id": "95da60aa-d466-43a3-a0d0-8c35eaef2077",
   "metadata": {},
   "outputs": [
    {
     "data": {
      "text/plain": [
       "{1, 2, 3}"
      ]
     },
     "execution_count": 100,
     "metadata": {},
     "output_type": "execute_result"
    }
   ],
   "source": [
    "#22. Convert a list [1, 2, 3, 2, 1] into a set and print the result.\n",
    "\n",
    "lst=[1, 2, 3, 2, 1]\n",
    "st=set(lst)\n",
    "st\n"
   ]
  },
  {
   "cell_type": "code",
   "execution_count": 98,
   "id": "2e8b07cd-c4a3-431e-a755-948b500e6768",
   "metadata": {},
   "outputs": [
    {
     "name": "stdin",
     "output_type": "stream",
     "text": [
      " 2\n"
     ]
    },
    {
     "name": "stdout",
     "output_type": "stream",
     "text": [
      "Less than 10\n"
     ]
    }
   ],
   "source": [
    "#23. Write an if statement that prints 'Greater than 10' if a number is greater than 10.\n",
    "\n",
    "a=int(input())\n",
    "if a>10:\n",
    "    print('Greater than 10')\n",
    "else:\n",
    "    print('Less than 10')\n",
    "     \n"
   ]
  },
  {
   "cell_type": "code",
   "execution_count": 96,
   "id": "d66b1239-b585-44d8-81e8-e56b1659de08",
   "metadata": {},
   "outputs": [
    {
     "name": "stdin",
     "output_type": "stream",
     "text": [
      " -1\n"
     ]
    },
    {
     "name": "stdout",
     "output_type": "stream",
     "text": [
      "Negative\n"
     ]
    }
   ],
   "source": [
    "#24. Write an if-else statement that checks if a number is positive or negative.\n",
    "\n",
    "num=int(input())\n",
    "if num>0:\n",
    "    print('Positive')\n",
    "else:\n",
    "    print('Negative')\n",
    "     \n"
   ]
  },
  {
   "cell_type": "code",
   "execution_count": null,
   "id": "6e3c7263-d8a2-482b-bbcd-336c92063899",
   "metadata": {},
   "outputs": [],
   "source": [
    "#25. Write an if-elif-else statement that checks if a number is positive, negative, or zero.\n",
    "\n",
    "nums=int(input())\n",
    "if nums>0:\n",
    "    print('Positive')\n",
    "elif nums<0:\n",
    "    print('Negative')\n",
    "else:\n",
    "    print('Zero')\n",
    "\n",
    "     \n"
   ]
  },
  {
   "cell_type": "code",
   "execution_count": 94,
   "id": "c4fc702d-7749-4b31-a42f-77d91e27b7d9",
   "metadata": {},
   "outputs": [
    {
     "name": "stdin",
     "output_type": "stream",
     "text": [
      " 2\n"
     ]
    },
    {
     "name": "stdout",
     "output_type": "stream",
     "text": [
      "Even\n"
     ]
    }
   ],
   "source": [
    "#26. Create a Python program that takes an integer as input and prints 'Even' if it is even and 'Odd' if it is odd\n",
    "\n",
    "number=int(input())\n",
    "if number%2==0:\n",
    "    print('Even')\n",
    "else:\n",
    "    print('Odd')\n"
   ]
  },
  {
   "cell_type": "code",
   "execution_count": 92,
   "id": "ec1ced22-85a2-463c-a292-392c5c20cf3d",
   "metadata": {},
   "outputs": [
    {
     "name": "stdin",
     "output_type": "stream",
     "text": [
      " 2015\n"
     ]
    },
    {
     "name": "stdout",
     "output_type": "stream",
     "text": [
      "Not a leap year\n"
     ]
    }
   ],
   "source": [
    "#27. Write a program that checks if a given year is a leap year.\n",
    "\n",
    "yr=int(input())\n",
    "if yr%4==0:\n",
    "    print('Leap year')\n",
    "else:\n",
    "    print('Not a leap year')\n",
    "     \n"
   ]
  },
  {
   "cell_type": "code",
   "execution_count": 90,
   "id": "8ac01f24-84ef-4021-b0e0-0bb5cac8aedd",
   "metadata": {},
   "outputs": [
    {
     "name": "stdin",
     "output_type": "stream",
     "text": [
      " 2\n"
     ]
    },
    {
     "name": "stdout",
     "output_type": "stream",
     "text": [
      "Positive and even\n"
     ]
    }
   ],
   "source": [
    "#28. Use a nested if statement to check if a number is positive and even.\n",
    "\n",
    "number=int(input())\n",
    "if number%2==0 and number>0:\n",
    "    print('Positive and even')\n",
    "else:\n",
    "    print('Not positive and even')\n",
    "     \n"
   ]
  },
  {
   "cell_type": "code",
   "execution_count": 88,
   "id": "1a881c44-6273-4597-996a-b8a75ccc6522",
   "metadata": {},
   "outputs": [
    {
     "name": "stdin",
     "output_type": "stream",
     "text": [
      " 7\n"
     ]
    },
    {
     "name": "stdout",
     "output_type": "stream",
     "text": [
      "Between 5 and 10\n"
     ]
    }
   ],
   "source": [
    "#29. Write a program to check if a variable x is between 5 and 10.\n",
    "\n",
    "number=int(input())\n",
    "if(number>5 and number<10):\n",
    "    print('Between 5 and 10')\n",
    "else:\n",
    "    print('Not between 5 and 10')\n"
   ]
  },
  {
   "cell_type": "code",
   "execution_count": 86,
   "id": "f2d31182-4ade-437f-b62a-d6452bd087c6",
   "metadata": {},
   "outputs": [
    {
     "name": "stdin",
     "output_type": "stream",
     "text": [
      " 1\n"
     ]
    },
    {
     "name": "stdout",
     "output_type": "stream",
     "text": [
      "Integer\n"
     ]
    }
   ],
   "source": [
    "#30. Write an if statement that checks if a variable is a specific data type.\n",
    "\n",
    "x=int(input())\n",
    "if type(x)==int:\n",
    "    print('Integer')\n",
    "else:\n",
    "    print('Not integer')\n"
   ]
  },
  {
   "cell_type": "code",
   "execution_count": 82,
   "id": "e6ee0560-7158-4027-9e5a-f41215f3345c",
   "metadata": {},
   "outputs": [
    {
     "name": "stdin",
     "output_type": "stream",
     "text": [
      " 80\n"
     ]
    },
    {
     "name": "stdout",
     "output_type": "stream",
     "text": [
      "Pass\n"
     ]
    }
   ],
   "source": [
    "#31. Write a program that prints 'Pass' if a student's grade is 60 or higher, otherwise 'Fail'.\n",
    "\n",
    "\n",
    "marks=int(input())\n",
    "if marks>=60:\n",
    "    print('Pass')\n",
    "     \n"
   ]
  },
  {
   "cell_type": "code",
   "execution_count": 80,
   "id": "c34d9f23-d26f-4040-a4e1-9e79881fb536",
   "metadata": {},
   "outputs": [
    {
     "name": "stdin",
     "output_type": "stream",
     "text": [
      "Enter something:  asd\n"
     ]
    },
    {
     "name": "stdout",
     "output_type": "stream",
     "text": [
      "Not Empty\n"
     ]
    }
   ],
   "source": [
    "#32. Write an if statement that prints a message if a variable is empty.\n",
    "\n",
    "x = input(\"Enter something: \")\n",
    "if x == \"\":\n",
    "    print(\"Empty\")\n",
    "else:\n",
    "    print(\"Not Empty\")\n"
   ]
  },
  {
   "cell_type": "code",
   "execution_count": 78,
   "id": "947c5cc9-3c78-4eb7-9b2d-6cfeed46ba1b",
   "metadata": {},
   "outputs": [
    {
     "name": "stdout",
     "output_type": "stream",
     "text": [
      "1\n",
      "2\n",
      "3\n",
      "4\n",
      "5\n",
      "6\n",
      "7\n",
      "8\n",
      "9\n",
      "10\n"
     ]
    }
   ],
   "source": [
    "#33. Use a for loop and range() to print numbers from 1 to 10.\n",
    "\n",
    "for i in range (1,11):\n",
    "    print(i)\n"
   ]
  },
  {
   "cell_type": "code",
   "execution_count": 76,
   "id": "0096464c-a6ac-46e2-aad7-d0ce6f1ff4a9",
   "metadata": {},
   "outputs": [
    {
     "name": "stdout",
     "output_type": "stream",
     "text": [
      "210\n"
     ]
    }
   ],
   "source": [
    "#34. Write a for loop that calculates the sum of all numbers from 1 to 20.\n",
    "\n",
    "sum=0\n",
    "for i in range (1,21):\n",
    "    sum+=i\n",
    "print(sum)\n"
   ]
  },
  {
   "cell_type": "code",
   "execution_count": 74,
   "id": "cbd0aed1-680d-4899-8451-310dbc848689",
   "metadata": {},
   "outputs": [
    {
     "name": "stdout",
     "output_type": "stream",
     "text": [
      "Ashu\n",
      "Asmi\n",
      "Rushi\n",
      "Kedar\n",
      "Pandit\n",
      "Shinchan\n"
     ]
    }
   ],
   "source": [
    "#35. Use a for loop to iterate over a list of names and print each name.\n",
    "\n",
    "names=['Ashu','Asmi','Rushi','Kedar','Pandit','Shinchan']\n",
    "for i in names:\n",
    "    print(i)\n"
   ]
  },
  {
   "cell_type": "code",
   "execution_count": 68,
   "id": "d7faf552-2874-453b-9b3b-8892ae879db5",
   "metadata": {},
   "outputs": [
    {
     "name": "stdout",
     "output_type": "stream",
     "text": [
      "1\n",
      "4\n",
      "9\n",
      "16\n",
      "25\n",
      "36\n",
      "49\n",
      "64\n",
      "81\n",
      "100\n"
     ]
    }
   ],
   "source": [
    "#36. Write a program to print the squares of numbers from 1 to 10 using a for loop\n",
    "\n",
    "for i in range (1,11):\n",
    "    print(i**2)\n"
   ]
  },
  {
   "cell_type": "code",
   "execution_count": 66,
   "id": "81af81d5-91a1-4eaf-8a9d-069c687ae674",
   "metadata": {},
   "outputs": [
    {
     "name": "stdout",
     "output_type": "stream",
     "text": [
      "1\n",
      "2\n",
      "3\n",
      "4\n",
      "5\n",
      "6\n",
      "7\n",
      "8\n",
      "9\n",
      "10\n",
      "11\n",
      "12\n",
      "13\n",
      "14\n",
      "15\n",
      "16\n",
      "17\n",
      "18\n",
      "19\n",
      "20\n"
     ]
    }
   ],
   "source": [
    "#37. Use a for loop and range() to print all even numbers from 1 to 20\n",
    "\n",
    "for i in range(1,21):\n",
    "  print(i)\n"
   ]
  },
  {
   "cell_type": "code",
   "execution_count": 60,
   "id": "093c6174-4a75-422d-bb68-a2dbf7a2b679",
   "metadata": {},
   "outputs": [
    {
     "name": "stdout",
     "output_type": "stream",
     "text": [
      "10\n",
      "9\n",
      "8\n",
      "7\n",
      "6\n",
      "5\n",
      "4\n",
      "3\n",
      "2\n",
      "1\n"
     ]
    }
   ],
   "source": [
    "#38. Write a program that counts down from 10 to 1 using a for loop.\n",
    "\n",
    "for i in range (10,0,-1):\n",
    "    print(i)\n"
   ]
  },
  {
   "cell_type": "code",
   "execution_count": 64,
   "id": "85ec77ed-b15d-433c-8854-b4b480c3fe50",
   "metadata": {},
   "outputs": [
    {
     "name": "stdout",
     "output_type": "stream",
     "text": [
      "MANGO\n",
      "BANANA\n",
      "STRAWBERRY\n",
      "APPLE\n"
     ]
    }
   ],
   "source": [
    "#39. Create a list of fruits and use a for loop to print each fruit in uppercase\n",
    "\n",
    "fruits=['mango','banana','strawberry','apple']\n",
    "for fruit in fruits:\n",
    "    print(fruit.upper())\n"
   ]
  },
  {
   "cell_type": "code",
   "execution_count": 62,
   "id": "6d8d8c32-0b8e-4a88-85de-46089f51fbda",
   "metadata": {},
   "outputs": [
    {
     "name": "stdout",
     "output_type": "stream",
     "text": [
      "0 mango\n",
      "1 banana\n",
      "2 strawberry\n",
      "3 apple\n"
     ]
    }
   ],
   "source": [
    "#40. Write a for loop that prints the elements in a list along with their index.\n",
    "\n",
    "fruits=['mango','banana','strawberry','apple']\n",
    "for index, fruit in enumerate(fruits):\n",
    "    print(index, fruit)\n"
   ]
  },
  {
   "cell_type": "code",
   "execution_count": 54,
   "id": "80c4de92-ae49-4193-9047-8094baa66bcc",
   "metadata": {},
   "outputs": [
    {
     "name": "stdout",
     "output_type": "stream",
     "text": [
      "0\n",
      "3\n",
      "6\n",
      "9\n",
      "12\n",
      "15\n",
      "18\n",
      "21\n",
      "24\n",
      "27\n",
      "30\n"
     ]
    }
   ],
   "source": [
    "#41. Use range() with three arguments to print every third number from 0 to 30\n",
    "\n",
    "for i in range(0,31,3):\n",
    "  print(i)\n",
    "     \n"
   ]
  },
  {
   "cell_type": "code",
   "execution_count": 52,
   "id": "a2c8c638-6fba-4242-b4e2-eec4ef624389",
   "metadata": {},
   "outputs": [
    {
     "name": "stdin",
     "output_type": "stream",
     "text": [
      " 12\n"
     ]
    },
    {
     "name": "stdout",
     "output_type": "stream",
     "text": [
      "479001600\n"
     ]
    }
   ],
   "source": [
    "#42. Write a program to calculate the factorial of a number using a for loop.\n",
    "\n",
    "x=int(input())\n",
    "fact=1\n",
    "for i in range(1,x+1):\n",
    "  fact*=i\n",
    "print(fact)\n"
   ]
  },
  {
   "cell_type": "code",
   "execution_count": 50,
   "id": "1ce29547-79e5-4ead-b84f-9f7d7a98702b",
   "metadata": {},
   "outputs": [
    {
     "name": "stdout",
     "output_type": "stream",
     "text": [
      "1\n",
      "2\n",
      "3\n",
      "4\n",
      "5\n"
     ]
    }
   ],
   "source": [
    "#43. Use a while loop to print numbers from 1 to 5.\n",
    "\n",
    "i=1\n",
    "while i<=5:\n",
    "  print(i)\n",
    "  i+=1\n"
   ]
  },
  {
   "cell_type": "code",
   "execution_count": 46,
   "id": "92d5f1c5-0ce2-4320-baea-dd958635db03",
   "metadata": {},
   "outputs": [
    {
     "name": "stdin",
     "output_type": "stream",
     "text": [
      " 122\n",
      " 1234\n"
     ]
    }
   ],
   "source": [
    "#44. Write a program that keeps asking the user for a password until they enter '1234'\n",
    "\n",
    "str(input())\n",
    "while str(input())!='1234':\n",
    "  print('Try again')\n"
   ]
  },
  {
   "cell_type": "code",
   "execution_count": 44,
   "id": "ac0fcc1a-f449-4479-940a-744ac204c235",
   "metadata": {},
   "outputs": [
    {
     "name": "stdout",
     "output_type": "stream",
     "text": [
      "5050\n"
     ]
    }
   ],
   "source": [
    "#45. Write a while loop to find the sum of numbers from 1 to 100.\n",
    "\n",
    "addi=0\n",
    "i = 1\n",
    "while i<=100:\n",
    "  addi+=i\n",
    "  i+=1\n",
    "print(addi)\n"
   ]
  },
  {
   "cell_type": "code",
   "execution_count": 38,
   "id": "673d216f-6ade-4727-9187-818c33c9bb93",
   "metadata": {},
   "outputs": [
    {
     "name": "stdout",
     "output_type": "stream",
     "text": [
      "10\n",
      "9\n",
      "8\n",
      "7\n",
      "6\n",
      "5\n",
      "4\n",
      "3\n",
      "2\n",
      "1\n"
     ]
    }
   ],
   "source": [
    "#46. Use a while loop to print the numbers in reverse from 10 to 1.\n",
    "\n",
    "i=10\n",
    "while  i>=1:\n",
    "  print(i)\n",
    "  i-=1\n"
   ]
  },
  {
   "cell_type": "code",
   "execution_count": 36,
   "id": "209759a0-816f-4a19-a17a-79bdc4efc24a",
   "metadata": {},
   "outputs": [
    {
     "name": "stdout",
     "output_type": "stream",
     "text": [
      "2\n",
      "4\n",
      "6\n",
      "8\n",
      "10\n",
      "12\n",
      "14\n",
      "16\n",
      "18\n",
      "20\n"
     ]
    }
   ],
   "source": [
    "#47. Write a while loop that prints only even numbers between 1 and 20.\n",
    "\n",
    "i=1\n",
    "while i<=20:\n",
    "  if i%2==0:\n",
    "    print(i)\n",
    "  i+=1\n"
   ]
  },
  {
   "cell_type": "code",
   "execution_count": 30,
   "id": "35747f0e-c553-44e6-b415-96044e87a195",
   "metadata": {},
   "outputs": [
    {
     "name": "stdout",
     "output_type": "stream",
     "text": [
      "1\n",
      "2\n",
      "3\n",
      "4\n",
      "5\n",
      "6\n",
      "7\n",
      "8\n",
      "9\n",
      "10\n",
      "11\n",
      "12\n",
      "13\n",
      "14\n",
      "15\n",
      "16\n",
      "17\n",
      "18\n",
      "19\n",
      "20\n",
      "21\n",
      "22\n",
      "23\n",
      "24\n",
      "25\n",
      "26\n",
      "27\n",
      "28\n",
      "29\n",
      "30\n",
      "31\n",
      "32\n",
      "33\n",
      "34\n",
      "35\n",
      "36\n",
      "37\n",
      "38\n",
      "39\n",
      "40\n",
      "41\n",
      "42\n",
      "43\n",
      "44\n",
      "45\n",
      "46\n",
      "47\n",
      "48\n",
      "49\n",
      "50\n",
      "51\n",
      "52\n",
      "53\n",
      "54\n",
      "55\n",
      "56\n",
      "57\n",
      "58\n",
      "59\n",
      "60\n",
      "61\n",
      "62\n",
      "63\n",
      "64\n",
      "65\n",
      "66\n",
      "67\n",
      "68\n",
      "69\n",
      "70\n",
      "71\n",
      "72\n",
      "73\n",
      "74\n",
      "75\n",
      "76\n",
      "77\n",
      "78\n",
      "79\n",
      "80\n",
      "81\n",
      "82\n",
      "83\n",
      "84\n",
      "85\n",
      "86\n",
      "87\n",
      "88\n",
      "89\n",
      "90\n",
      "91\n",
      "92\n",
      "93\n",
      "94\n",
      "95\n",
      "96\n",
      "97\n",
      "98\n",
      "99\n",
      "100\n",
      "101\n"
     ]
    }
   ],
   "source": [
    "#48. Create a while loop that stops once a number exceeds 100\n",
    "\n",
    "i=1\n",
    "while i<=101:\n",
    " print(i)\n",
    " i+=1\n"
   ]
  },
  {
   "cell_type": "code",
   "execution_count": 32,
   "id": "9bfbe8cc-eff6-4c86-9690-8e693d48a4d9",
   "metadata": {},
   "outputs": [
    {
     "name": "stdout",
     "output_type": "stream",
     "text": [
      "1\n",
      "2\n",
      "3\n",
      "4\n",
      "5\n",
      "6\n",
      "7\n",
      "8\n",
      "9\n",
      "10\n",
      "11\n",
      "12\n",
      "13\n",
      "14\n",
      "15\n",
      "16\n",
      "17\n",
      "18\n",
      "19\n",
      "20\n",
      "21\n",
      "22\n",
      "23\n",
      "24\n",
      "25\n",
      "26\n",
      "27\n",
      "28\n",
      "29\n",
      "30\n",
      "31\n",
      "32\n",
      "33\n",
      "34\n",
      "35\n",
      "36\n",
      "37\n",
      "38\n",
      "39\n",
      "40\n",
      "41\n",
      "42\n",
      "43\n",
      "44\n",
      "45\n",
      "46\n",
      "47\n",
      "48\n",
      "49\n",
      "50\n",
      "51\n",
      "52\n",
      "53\n",
      "54\n",
      "55\n",
      "56\n",
      "57\n",
      "58\n",
      "59\n",
      "60\n",
      "61\n",
      "62\n",
      "63\n",
      "64\n",
      "65\n",
      "66\n",
      "67\n",
      "68\n",
      "69\n",
      "70\n",
      "71\n",
      "72\n",
      "73\n",
      "74\n",
      "75\n",
      "76\n",
      "77\n",
      "78\n",
      "79\n",
      "80\n",
      "81\n",
      "82\n",
      "83\n",
      "84\n",
      "85\n",
      "86\n",
      "87\n",
      "88\n",
      "89\n",
      "90\n",
      "91\n",
      "92\n",
      "93\n",
      "94\n",
      "95\n",
      "96\n",
      "97\n",
      "98\n",
      "99\n",
      "100\n",
      "101\n"
     ]
    }
   ],
   "source": [
    "#49. Create a while loop that stops once a number exceeds 100\n",
    "\n",
    "i=1\n",
    "while i<=101:\n",
    " print(i)\n",
    " i+=1\n"
   ]
  },
  {
   "cell_type": "code",
   "execution_count": 20,
   "id": "015743db-f339-4d1f-9e14-0010b2c3639c",
   "metadata": {},
   "outputs": [
    {
     "name": "stdout",
     "output_type": "stream",
     "text": [
      "[10, 20, 30, 40]\n",
      "[10, 20, 30]\n",
      "[10, 20]\n",
      "[10]\n",
      "[]\n"
     ]
    }
   ],
   "source": [
    "#50. Write a while loop that repeatedly removes the last element from a list until it's empty.\n",
    "\n",
    "\n",
    "my_list = [10, 20, 30, 40, 50]\n",
    "\n",
    "while my_list:\n",
    "    my_list.pop()  # Removes the last element\n",
    "    print(my_list)\n"
   ]
  },
  {
   "cell_type": "code",
   "execution_count": 18,
   "id": "f246597b-9a87-4e15-a4e8-199418e93916",
   "metadata": {},
   "outputs": [
    {
     "name": "stdout",
     "output_type": "stream",
     "text": [
      "10\n",
      "9\n",
      "8\n",
      "7\n",
      "6\n",
      "5\n",
      "4\n",
      "3\n",
      "2\n",
      "1\n"
     ]
    }
   ],
   "source": [
    "#51. Create a countdown timer that counts down from 10 to 1 using while.\n",
    "\n",
    "\n",
    "i = 10\n",
    "\n",
    "while i >= 1:\n",
    "    print(i)\n",
    "    i -= 1\n"
   ]
  },
  {
   "cell_type": "code",
   "execution_count": 16,
   "id": "c20cd3f0-be96-4ae7-a45c-f61ddc500357",
   "metadata": {},
   "outputs": [
    {
     "name": "stdout",
     "output_type": "stream",
     "text": [
      "5\n",
      "10\n",
      "15\n",
      "20\n",
      "25\n",
      "30\n",
      "35\n",
      "40\n",
      "45\n",
      "50\n"
     ]
    }
   ],
   "source": [
    "#52. Write a program that finds the first 10 multiples of 5 using a while loop.\n",
    "\n",
    "i = 1\n",
    "count = 0\n",
    "\n",
    "while count < 10:\n",
    "    print(5 * i)\n",
    "    i += 1\n",
    "    count += 1\n"
   ]
  },
  {
   "cell_type": "code",
   "execution_count": 12,
   "id": "b815455d-1f99-43b7-aaad-5722d9eb900b",
   "metadata": {},
   "outputs": [
    {
     "data": {
      "text/plain": [
       "[0, 1, 1, 2, 3, 5, 8, 13, 21, 34]"
      ]
     },
     "execution_count": 12,
     "metadata": {},
     "output_type": "execute_result"
    }
   ],
   "source": [
    "#53. Use a while loop to generate a list of the first 10 Fibonacci numbers.\n",
    "\n",
    "fib_list = [0, 1]\n",
    "i = 2\n",
    "while i < 10:\n",
    "    wrd = fib_list[-1] + fib_list[-2]\n",
    "    fib_list.append(wrd)\n",
    "    i += 1\n",
    "fib_list     "
   ]
  },
  {
   "cell_type": "code",
   "execution_count": null,
   "id": "5135c9df-b21c-4d67-8822-e467f2e344ec",
   "metadata": {},
   "outputs": [],
   "source": []
  }
 ],
 "metadata": {
  "kernelspec": {
   "display_name": "Python 3 (ipykernel)",
   "language": "python",
   "name": "python3"
  },
  "language_info": {
   "codemirror_mode": {
    "name": "ipython",
    "version": 3
   },
   "file_extension": ".py",
   "mimetype": "text/x-python",
   "name": "python",
   "nbconvert_exporter": "python",
   "pygments_lexer": "ipython3",
   "version": "3.12.7"
  }
 },
 "nbformat": 4,
 "nbformat_minor": 5
}
