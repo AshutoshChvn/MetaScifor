{
 "cells": [
  {
   "cell_type": "raw",
   "id": "d60401c6-d0ab-40d8-bfd4-9c133efc57e9",
   "metadata": {},
   "source": [
    "1. Write a Python expression to calculate the area of a circle with radius r = 7.\n",
    "2. What will be the output of the expression 2 * 3 + 4?\n",
    "3. Calculate the result of (8 / 2) * (3 + 2).\n",
    "4. Write an expression to find the remainder when 15 is divided by 4.\n",
    "5. Write a Python expression to convert 100 Fahrenheit to Celsius using the formula: C = (F - 32) *\n",
    "5/9.\n",
    "6. Evaluate the expression: 10 // 3 + 2 ** 3.\n",
    "7. What does the expression 5 == 5 and 4 < 6 evaluate to?\n",
    "8. What is the output of not (4 > 5 or 3 == 3)?\n",
    "9. Write an expression that checks if a number x is odd."
   ]
  },
  {
   "cell_type": "code",
   "execution_count": 6,
   "id": "a1d1f75f-47e5-46eb-af48-302f1de2f578",
   "metadata": {},
   "outputs": [
    {
     "name": "stdout",
     "output_type": "stream",
     "text": [
      "area of circle is 153.94\n"
     ]
    }
   ],
   "source": [
    "1. \n",
    "# pi*r**2 <-- circle area formula\n",
    "r=7\n",
    "area = 3.14159 * (r ** 2)\n",
    "print(f\"area of circle is {round(area,2)}\")"
   ]
  },
  {
   "cell_type": "code",
   "execution_count": 8,
   "id": "bc9cf681-a53b-49d2-86ea-a9261b901a65",
   "metadata": {},
   "outputs": [
    {
     "name": "stdout",
     "output_type": "stream",
     "text": [
      "10\n"
     ]
    }
   ],
   "source": [
    "2.\n",
    "a = 2 * 3 + 4\n",
    "print(a)"
   ]
  },
  {
   "cell_type": "code",
   "execution_count": 10,
   "id": "b2892bb9-cfe9-454a-ab38-b9115507168b",
   "metadata": {},
   "outputs": [
    {
     "name": "stdout",
     "output_type": "stream",
     "text": [
      "20.0\n"
     ]
    }
   ],
   "source": [
    "3.\n",
    "a = (8 / 2) * (3 + 2)\n",
    "print(a)"
   ]
  },
  {
   "cell_type": "code",
   "execution_count": 16,
   "id": "21890bf1-601c-437a-954e-68567bc471d8",
   "metadata": {},
   "outputs": [
    {
     "name": "stdout",
     "output_type": "stream",
     "text": [
      "Remainder is 3\n"
     ]
    }
   ],
   "source": [
    "4.\n",
    "a = 15%4\n",
    "print(f'Remainder is {a}')"
   ]
  },
  {
   "cell_type": "code",
   "execution_count": 26,
   "id": "bb8b71b4-9f7b-40f0-bcac-b7b9fae63db4",
   "metadata": {},
   "outputs": [
    {
     "name": "stdout",
     "output_type": "stream",
     "text": [
      "100F into Celcius is 37.78\n"
     ]
    }
   ],
   "source": [
    "5.\n",
    "F = 100\n",
    "C = (F - 32) * 5/9\n",
    "print(f'100F into Celcius is {round(C,2)}')"
   ]
  },
  {
   "cell_type": "code",
   "execution_count": 28,
   "id": "c731a2b9-62cc-4f75-bbb2-3153629b76b8",
   "metadata": {},
   "outputs": [
    {
     "name": "stdout",
     "output_type": "stream",
     "text": [
      "11\n"
     ]
    }
   ],
   "source": [
    "6.\n",
    "a = 10 // 3 + 2 ** 3\n",
    "print(a)"
   ]
  },
  {
   "cell_type": "code",
   "execution_count": 34,
   "id": "5920be09-3e0c-47a3-af0b-46db7fcfb844",
   "metadata": {},
   "outputs": [
    {
     "name": "stdout",
     "output_type": "stream",
     "text": [
      "5==5 evaluates as True\n",
      "5<6 evaluates as True\n"
     ]
    }
   ],
   "source": [
    "7.\n",
    "print(f'5==5 evaluates as {5==5}')\n",
    "print(f'5<6 evaluates as {5<6}')"
   ]
  },
  {
   "cell_type": "code",
   "execution_count": 36,
   "id": "83eb6297-f9d0-442e-922a-09e0e2ca8040",
   "metadata": {},
   "outputs": [
    {
     "name": "stdout",
     "output_type": "stream",
     "text": [
      "Output of 4 > 5 or 3 == 3 is True\n"
     ]
    }
   ],
   "source": [
    "8.\n",
    "print(f'Output of 4 > 5 or 3 == 3 is {4 > 5 or 3 == 3}')"
   ]
  },
  {
   "cell_type": "code",
   "execution_count": 48,
   "id": "139a83d4-93ab-4580-9846-8824e1b65ce4",
   "metadata": {},
   "outputs": [
    {
     "name": "stdout",
     "output_type": "stream",
     "text": [
      "7 is Odd\n"
     ]
    }
   ],
   "source": [
    "9.\n",
    "x = 7\n",
    "if x%2!=0:\n",
    "    print(f\"{x} is Odd\")\n",
    "else:\n",
    "    print(f\"{x} is Even\")"
   ]
  },
  {
   "cell_type": "raw",
   "id": "0d525728-c156-4b93-8005-03707f603974",
   "metadata": {},
   "source": [
    "Data Types\n",
    "10. What is the type of the value 5.0?\n",
    "11. How do you convert the integer 42 to a string?\n",
    "12. What will the expression str(3.14) + ' is pi' output?\n",
    "13. What is the output type of the expression 4 + 3.5?\n",
    "14. Write a Python code to take an input from the user and convert it to an integer.\n",
    "15. How can you find the type of a variable in Python?\n",
    "16. Create a variable my_name and assign your name to it. Check if it is of type str."
   ]
  },
  {
   "cell_type": "code",
   "execution_count": 52,
   "id": "86cf43ea-9734-4591-91c4-9f6ee406ac9b",
   "metadata": {},
   "outputs": [
    {
     "data": {
      "text/plain": [
       "float"
      ]
     },
     "execution_count": 52,
     "metadata": {},
     "output_type": "execute_result"
    }
   ],
   "source": [
    "10.\n",
    "type(5.0)"
   ]
  },
  {
   "cell_type": "code",
   "execution_count": 58,
   "id": "68b8a27d-25e8-4210-a6bd-b0c649bdfacb",
   "metadata": {},
   "outputs": [
    {
     "name": "stdout",
     "output_type": "stream",
     "text": [
      "<class 'int'>\n",
      "<class 'str'>\n"
     ]
    }
   ],
   "source": [
    "11.\n",
    "i = 42\n",
    "print(type(i))\n",
    "j = str(i)\n",
    "print(type(j))"
   ]
  },
  {
   "cell_type": "code",
   "execution_count": 62,
   "id": "125c8e86-882c-4c08-af8a-8d24d28012e9",
   "metadata": {},
   "outputs": [
    {
     "name": "stdout",
     "output_type": "stream",
     "text": [
      "3.14 is pi\n"
     ]
    }
   ],
   "source": [
    "12.\n",
    "i = str(3.14) + ' is pi'\n",
    "print(i)"
   ]
  },
  {
   "cell_type": "code",
   "execution_count": 66,
   "id": "7392bb1d-831b-4cf7-9b91-1db418276112",
   "metadata": {},
   "outputs": [
    {
     "name": "stdout",
     "output_type": "stream",
     "text": [
      "type of output of 4 + 3.5 is <class 'float'>\n"
     ]
    }
   ],
   "source": [
    "13.\n",
    "print(f\"type of output of 4 + 3.5 is {type(4 + 3.5)}\")"
   ]
  },
  {
   "cell_type": "code",
   "execution_count": 98,
   "id": "ab81019b-64c7-44d8-b4d7-fa5bd54f664a",
   "metadata": {},
   "outputs": [
    {
     "name": "stdin",
     "output_type": "stream",
     "text": [
      "Enter here 1.4\n"
     ]
    },
    {
     "name": "stdout",
     "output_type": "stream",
     "text": [
      "type of 1.4:  <class 'str'>\n",
      "after type cast of 1.4: <class 'int'>\n"
     ]
    }
   ],
   "source": [
    "14.\n",
    "i = input(\"Enter here\")\n",
    "print(f'type of {i}: ',type(i))\n",
    "if i.isalpha():\n",
    "    print(\"please enter digit\")\n",
    "else:\n",
    "    j = int(float(i))\n",
    "    print(f'after type cast of {i}: {type(j)}')\n"
   ]
  },
  {
   "cell_type": "code",
   "execution_count": 100,
   "id": "fa347a82-24dd-40f9-80dd-9ae8e099b8ca",
   "metadata": {},
   "outputs": [
    {
     "data": {
      "text/plain": [
       "float"
      ]
     },
     "execution_count": 100,
     "metadata": {},
     "output_type": "execute_result"
    }
   ],
   "source": [
    "15.\n",
    "# to find type of variable we use type() function\n",
    "\n",
    "x = 4.6\n",
    "type(x)"
   ]
  },
  {
   "cell_type": "code",
   "execution_count": 102,
   "id": "75efaf8d-651e-4f64-aab0-51b657641dff",
   "metadata": {},
   "outputs": [
    {
     "data": {
      "text/plain": [
       "str"
      ]
     },
     "execution_count": 102,
     "metadata": {},
     "output_type": "execute_result"
    }
   ],
   "source": [
    "16.\n",
    "a = 'Ashutosh'\n",
    "type(a)"
   ]
  },
  {
   "cell_type": "raw",
   "id": "a5acfcc1-7f30-415d-9c8c-bfccb267c859",
   "metadata": {},
   "source": [
    "Data Structures - Lists, Tuples, Sets, and Dictionaries\n",
    "17. How do you create an empty list in Python?\n",
    "18. Write code to add an element 42 to the end of the list [1, 2, 3].\n",
    "19. How do you access the third element in the list my_list = [10, 20, 30, 40]?\n",
    "20. What is the difference between a list and a tuple in Python?\n",
    "21. Write a Python code to create a set with the elements 1, 2, and 3.\n",
    "22. How do you remove an element from a set in Python?\n",
    "23. Write code to retrieve the value of the key 'name' from the dictionary person = {'name': 'Alice',\n",
    "'age': 25}.\n",
    "24. Create a dictionary with three key-value pairs and then remove one pair from it.\n",
    "25. Given my_tuple = (5, 10, 15), how can you access the element 10?"
   ]
  },
  {
   "cell_type": "code",
   "execution_count": 104,
   "id": "0b331b0e-a6d0-4533-89a8-3e2983ae4c67",
   "metadata": {},
   "outputs": [
    {
     "name": "stdout",
     "output_type": "stream",
     "text": [
      "Empty list []\n"
     ]
    }
   ],
   "source": [
    "17.\n",
    "l1 = []\n",
    "print(f\"Empty list {l1}\")"
   ]
  },
  {
   "cell_type": "code",
   "execution_count": 106,
   "id": "19a40d63-8bc3-44f0-93b6-0b1e4dda4397",
   "metadata": {},
   "outputs": [
    {
     "data": {
      "text/plain": [
       "[1, 2, 3, 42]"
      ]
     },
     "execution_count": 106,
     "metadata": {},
     "output_type": "execute_result"
    }
   ],
   "source": [
    "18.\n",
    "l1 = [1, 2, 3]\n",
    "l1.append(42)\n",
    "l1"
   ]
  },
  {
   "cell_type": "code",
   "execution_count": 108,
   "id": "a439557b-6d9c-4ee1-b80c-acb76612100d",
   "metadata": {},
   "outputs": [
    {
     "name": "stdout",
     "output_type": "stream",
     "text": [
      "third element of list is 30\n"
     ]
    }
   ],
   "source": [
    "19.\n",
    "my_list = [10, 20, 30, 40]\n",
    "print(f'third element of list is {my_list[2]}')"
   ]
  },
  {
   "cell_type": "code",
   "execution_count": 114,
   "id": "23d0da7d-e32b-4089-8db5-db549b628ea4",
   "metadata": {},
   "outputs": [
    {
     "name": "stdout",
     "output_type": "stream",
     "text": [
      "{1, 2, 3}\n"
     ]
    }
   ],
   "source": [
    "20.\n",
    "s1 = set()\n",
    "s1.add(1)\n",
    "s1.add(2)\n",
    "s1.add(3)\n",
    "print(s1)"
   ]
  },
  {
   "cell_type": "raw",
   "id": "421c803a-d656-4a46-83b9-d75d03cd2ff9",
   "metadata": {},
   "source": [
    "21.\n",
    "List :  1. Mutable\n",
    "        2. it has square brackets []\n",
    "Tuple : 1. Immutable\n",
    "        2. it has round brackets ()"
   ]
  },
  {
   "cell_type": "code",
   "execution_count": 118,
   "id": "397d108b-ba7e-4667-bbd1-d60947f64305",
   "metadata": {},
   "outputs": [
    {
     "name": "stdout",
     "output_type": "stream",
     "text": [
      "{1, 2, 3}\n"
     ]
    }
   ],
   "source": [
    "22.\n",
    "# earlier we have created set\n",
    "print(s1)"
   ]
  },
  {
   "cell_type": "code",
   "execution_count": 120,
   "id": "22bf2e10-a068-4215-b225-32eb022b9012",
   "metadata": {},
   "outputs": [
    {
     "data": {
      "text/plain": [
       "{1, 3}"
      ]
     },
     "execution_count": 120,
     "metadata": {},
     "output_type": "execute_result"
    }
   ],
   "source": [
    "# removing element '2' from set\n",
    "s1.remove(2)\n",
    "s1"
   ]
  },
  {
   "cell_type": "code",
   "execution_count": 122,
   "id": "3c97b93b-3dad-4ce3-928e-18ae7654c279",
   "metadata": {},
   "outputs": [
    {
     "data": {
      "text/plain": [
       "'Alice'"
      ]
     },
     "execution_count": 122,
     "metadata": {},
     "output_type": "execute_result"
    }
   ],
   "source": [
    "23.\n",
    "person = {'name': 'Alice','age': 25}\n",
    "person['name']"
   ]
  },
  {
   "cell_type": "code",
   "execution_count": 124,
   "id": "98c7a4dc-6d74-4aff-ad8e-f2710009c67f",
   "metadata": {},
   "outputs": [
    {
     "data": {
      "text/plain": [
       "{'name': 'Alice', 'age': 25, 'Profile': 'HR'}"
      ]
     },
     "execution_count": 124,
     "metadata": {},
     "output_type": "execute_result"
    }
   ],
   "source": [
    "24.\n",
    "person = {'name': 'Alice','age': 25, 'Profile':'HR'}\n",
    "person"
   ]
  },
  {
   "cell_type": "code",
   "execution_count": 126,
   "id": "c7a0f563-429f-497b-a2a0-98e840630fa0",
   "metadata": {},
   "outputs": [
    {
     "data": {
      "text/plain": [
       "{'name': 'Alice', 'age': 25}"
      ]
     },
     "execution_count": 126,
     "metadata": {},
     "output_type": "execute_result"
    }
   ],
   "source": [
    "# removing Profile : HR\n",
    "del person['Profile']\n",
    "person\n"
   ]
  },
  {
   "cell_type": "code",
   "execution_count": 128,
   "id": "5cc1fef5-761b-459a-b068-ee1603a564ff",
   "metadata": {},
   "outputs": [
    {
     "name": "stdout",
     "output_type": "stream",
     "text": [
      "10\n"
     ]
    }
   ],
   "source": [
    "25.\n",
    "# using for loop\n",
    "my_tuple = (5, 10, 15)\n",
    "for i in my_tuple:\n",
    "    if i == 10:\n",
    "        print(i)\n"
   ]
  },
  {
   "cell_type": "code",
   "execution_count": 130,
   "id": "9534bcb6-9061-4ac7-92b1-c38effcfe11d",
   "metadata": {},
   "outputs": [
    {
     "data": {
      "text/plain": [
       "10"
      ]
     },
     "execution_count": 130,
     "metadata": {},
     "output_type": "execute_result"
    }
   ],
   "source": [
    "# using indexing\n",
    "my_tuple[1]"
   ]
  },
  {
   "cell_type": "raw",
   "id": "3de7396d-a4db-487f-ba16-0044869e5559",
   "metadata": {},
   "source": [
    "Methods of Data Structures\n",
    "26. How do you find the length of a list numbers = [1, 2, 3, 4, 5]?\n",
    "27. What method would you use to add an element at a specific index in a list?\n",
    "28. Write a Python code to sort the list [4, 1, 3, 2] in ascending order.\n",
    "29. How do you check if the number 5 is in the list [1, 2, 3, 4, 5]?\n",
    "30. Write a code to concatenate two lists [1, 2, 3] and [4, 5, 6]."
   ]
  },
  {
   "cell_type": "code",
   "execution_count": 132,
   "id": "59092c3c-44d9-44bb-b150-d735a4dfc823",
   "metadata": {},
   "outputs": [
    {
     "data": {
      "text/plain": [
       "5"
      ]
     },
     "execution_count": 132,
     "metadata": {},
     "output_type": "execute_result"
    }
   ],
   "source": [
    "26.\n",
    "numbers = [1, 2, 3, 4, 5]\n",
    "len(numbers)"
   ]
  },
  {
   "cell_type": "code",
   "execution_count": 134,
   "id": "9bef9906-4d16-4370-8ed6-88c43dde9ee8",
   "metadata": {},
   "outputs": [
    {
     "data": {
      "text/plain": [
       "[1, 2, 3, 4, 5]"
      ]
     },
     "execution_count": 134,
     "metadata": {},
     "output_type": "execute_result"
    }
   ],
   "source": [
    "27.\n",
    "# Insert Method is used to add element at specific index in list\n",
    "l1 = [1,2,3,5]\n",
    "l1.insert(3,4)\n",
    "l1"
   ]
  },
  {
   "cell_type": "code",
   "execution_count": 138,
   "id": "13bd72d1-ea0f-48a0-bf2f-9a1e00bc484a",
   "metadata": {},
   "outputs": [
    {
     "data": {
      "text/plain": [
       "[1, 2, 3, 4]"
      ]
     },
     "execution_count": 138,
     "metadata": {},
     "output_type": "execute_result"
    }
   ],
   "source": [
    "28.\n",
    "l1 = [4, 1, 3, 2]\n",
    "l1.sort()\n",
    "l1"
   ]
  },
  {
   "cell_type": "code",
   "execution_count": 142,
   "id": "16d0fb82-4975-44ac-9b8a-6afa28e8619f",
   "metadata": {},
   "outputs": [
    {
     "name": "stdout",
     "output_type": "stream",
     "text": [
      "5 Found\n"
     ]
    }
   ],
   "source": [
    "29.\n",
    "l1 = [1, 2, 3, 4, 5]\n",
    "j = 5\n",
    "fg = 0\n",
    "for i in l1:\n",
    "    if i==j:\n",
    "        fg = 1\n",
    "    else:\n",
    "        fg = 0\n",
    "if fg:\n",
    "    print(f'{j} Found')\n",
    "else:\n",
    "    print(f'{j} not found')"
   ]
  },
  {
   "cell_type": "code",
   "execution_count": 148,
   "id": "71cbb553-1048-47a4-ad23-a6b608fec2fd",
   "metadata": {},
   "outputs": [
    {
     "name": "stdout",
     "output_type": "stream",
     "text": [
      "after concatenation, [1, 2, 3, 4, 5, 6]\n"
     ]
    }
   ],
   "source": [
    "30.\n",
    "l1 = [1, 2, 3]\n",
    "l2 = [4, 5, 6]\n",
    "l3 = l1 + l2\n",
    "print(f'after concatenation, {l3}')"
   ]
  },
  {
   "cell_type": "raw",
   "id": "98cd49ad-32f5-4ae4-ade1-baf2136411a0",
   "metadata": {},
   "source": [
    "Branching\n",
    "31. Write a Python if statement to check if a number x is positive.\n",
    "32. Modify the previous question to include else to handle the case when x is negative or zero.\n",
    "33. Write an if-elif-else block to check if a number is positive, negative, or zero.\n",
    "34. How would you use a ternary operator to assign the value 10 to result if x > 5, otherwise assign\n",
    "5?\n",
    "35. Write an if statement that checks if a variable score is greater than or equal to 90, and if so,\n",
    "prints 'A grade'.\n",
    "36. Use an if statement to check if a list fruits = ['apple', 'banana', 'cherry'] contains the element\n",
    "'banana'.\n",
    "37. Write a nested if statement that prints 'Adult Male' if age > 18 and gender == 'male'.\n",
    "38. Create a Python code snippet using if statements to determine if a number is divisible by 3, 5, or\n",
    "both.\n",
    "39. Write an if condition that checks if a string name is not empty and prints 'Name is provided'.\n",
    "40. Use an if statement to check if a variable age is within the range 18 to 25 inclusive."
   ]
  },
  {
   "cell_type": "code",
   "execution_count": 164,
   "id": "8048e2a1-bc5e-487a-b4c1-e3921ec0bc30",
   "metadata": {},
   "outputs": [
    {
     "name": "stdout",
     "output_type": "stream",
     "text": [
      "X is positive\n"
     ]
    }
   ],
   "source": [
    "31.\n",
    "x = 1\n",
    "if x>0:\n",
    "    print(\"X is positive\")\n"
   ]
  },
  {
   "cell_type": "code",
   "execution_count": 160,
   "id": "246a48e3-9a1b-4f04-b3c2-e00cd4afb5db",
   "metadata": {},
   "outputs": [
    {
     "name": "stdout",
     "output_type": "stream",
     "text": [
      "X is positive\n"
     ]
    }
   ],
   "source": [
    "32.\n",
    "x = 1\n",
    "if x<0:\n",
    "    print(\"X is negative\")\n",
    "elif x>0:\n",
    "    print('X is positive')\n",
    "else:\n",
    "    print('X is zero')"
   ]
  },
  {
   "cell_type": "code",
   "execution_count": 166,
   "id": "9dea37ad-02ea-44c2-80b3-c3d4746985f2",
   "metadata": {},
   "outputs": [
    {
     "name": "stdout",
     "output_type": "stream",
     "text": [
      "1 is positive\n"
     ]
    }
   ],
   "source": [
    "33.\n",
    "x = 1\n",
    "if x<0:\n",
    "    print(f\"{x} is negative\")\n",
    "elif x>0:\n",
    "    print(f'{x} is positive')\n",
    "else:\n",
    "    print(f'{x} is zero')"
   ]
  },
  {
   "cell_type": "code",
   "execution_count": 170,
   "id": "934e2361-07c7-469a-8a67-3f2a04162021",
   "metadata": {},
   "outputs": [
    {
     "name": "stdout",
     "output_type": "stream",
     "text": [
      "5\n"
     ]
    }
   ],
   "source": [
    "34.\n",
    "x = 4\n",
    "a = 10 if x>5 else 5\n",
    "print(a)"
   ]
  },
  {
   "cell_type": "code",
   "execution_count": 172,
   "id": "9de5c43c-b043-46bf-ab3c-8855090c5623",
   "metadata": {},
   "outputs": [
    {
     "name": "stdout",
     "output_type": "stream",
     "text": [
      "A grade\n"
     ]
    }
   ],
   "source": [
    "35.\n",
    "score = 90\n",
    "if score >= 90:\n",
    "    print('A grade')\n"
   ]
  },
  {
   "cell_type": "code",
   "execution_count": 174,
   "id": "830d532a-3f02-4302-8bf3-5f572797dabe",
   "metadata": {},
   "outputs": [
    {
     "name": "stdout",
     "output_type": "stream",
     "text": [
      "banana\n"
     ]
    }
   ],
   "source": [
    "36.\n",
    "fruits = ['apple', 'banana', 'cherry']\n",
    "for i in fruits:\n",
    "    if i == 'banana':\n",
    "        print(i)"
   ]
  },
  {
   "cell_type": "code",
   "execution_count": 180,
   "id": "ac096579-3876-4cbd-8000-219915405aca",
   "metadata": {},
   "outputs": [
    {
     "name": "stdout",
     "output_type": "stream",
     "text": [
      "Adult Male\n"
     ]
    }
   ],
   "source": [
    "37.\n",
    "age = 20\n",
    "gender = 'Male'\n",
    "\n",
    "if gender=='Male':\n",
    "    if age>18:\n",
    "        print('Adult Male')"
   ]
  },
  {
   "cell_type": "code",
   "execution_count": 188,
   "id": "ccfbbb13-680b-41a4-9bf0-86b5771d3a4f",
   "metadata": {},
   "outputs": [
    {
     "name": "stdout",
     "output_type": "stream",
     "text": [
      "Can be divided by 5\n"
     ]
    }
   ],
   "source": [
    "38.\n",
    "no = 5\n",
    "if no%3==0:\n",
    "    print('Can be divided by 3')\n",
    "elif no%5==0:\n",
    "    print('Can be divided by 5')\n",
    "elif no%5==0 & no%3==0:\n",
    "    print('divided by both')"
   ]
  },
  {
   "cell_type": "code",
   "execution_count": 182,
   "id": "7f2f7275-92fa-4151-970a-9554e4b85e2d",
   "metadata": {},
   "outputs": [
    {
     "name": "stdout",
     "output_type": "stream",
     "text": [
      "Name is provided\n"
     ]
    }
   ],
   "source": [
    "39.\n",
    "name = \"Ashu\"\n",
    "if name:\n",
    "    print(\"Name is provided\")\n",
    "# checking if name is given"
   ]
  },
  {
   "cell_type": "code",
   "execution_count": 184,
   "id": "4d6e8c11-afc1-4717-80d4-c9e1493c4f2e",
   "metadata": {},
   "outputs": [
    {
     "name": "stdout",
     "output_type": "stream",
     "text": [
      "Age is within the range 18 to 25\n"
     ]
    }
   ],
   "source": [
    "40.\n",
    "age = 20  \n",
    "if 18 <= age <= 25:\n",
    "    print(\"Age is within the range 18 to 25\")\n",
    "else:\n",
    "    print(\"Age is outside the range 18 to 25\")\n"
   ]
  },
  {
   "cell_type": "code",
   "execution_count": null,
   "id": "892197a9-1bc6-47d6-86c7-4253eb601d66",
   "metadata": {},
   "outputs": [],
   "source": []
  }
 ],
 "metadata": {
  "kernelspec": {
   "display_name": "Python 3 (ipykernel)",
   "language": "python",
   "name": "python3"
  },
  "language_info": {
   "codemirror_mode": {
    "name": "ipython",
    "version": 3
   },
   "file_extension": ".py",
   "mimetype": "text/x-python",
   "name": "python",
   "nbconvert_exporter": "python",
   "pygments_lexer": "ipython3",
   "version": "3.12.7"
  }
 },
 "nbformat": 4,
 "nbformat_minor": 5
}
