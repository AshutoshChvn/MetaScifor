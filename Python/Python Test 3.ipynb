{
 "cells": [
  {
   "cell_type": "code",
   "execution_count": 64,
   "id": "194e3aee-cdf8-48dc-ac6e-9a88a2f386ac",
   "metadata": {},
   "outputs": [
    {
     "name": "stdin",
     "output_type": "stream",
     "text": [
      "Enter a number:  10\n"
     ]
    },
    {
     "name": "stdout",
     "output_type": "stream",
     "text": [
      "Square of the number: 100\n"
     ]
    }
   ],
   "source": [
    "# 1. Write a Python program using lambda to calculate the square of a number entered by the user.\n",
    "\n",
    "\n",
    "square = lambda x: x ** 2 #creating lambda function then assigning it to the var 'square'\n",
    "num = int(input(\"Enter a number: \"))# taking input from user\n",
    "print(\"Square of the number:\", square(num))# calling lambda function with entered number\n"
   ]
  },
  {
   "cell_type": "code",
   "execution_count": 68,
   "id": "610e3c59-3909-479b-a67e-e66e4560326c",
   "metadata": {},
   "outputs": [
    {
     "name": "stdin",
     "output_type": "stream",
     "text": [
      "Enter a number:  121\n"
     ]
    },
    {
     "name": "stdout",
     "output_type": "stream",
     "text": [
      "Is palindrome? True\n"
     ]
    }
   ],
   "source": [
    "# 4. Write a one-liner lambda function to check if a given number is a palindrome.\n",
    "is_palindrome = lambda x: str(x) == str(x)[::-1] #assigning lambda function which will cast int input taken from user into str to compare\n",
    "                                                # if string is equal to reverse of its own\n",
    "num = int(input(\"Enter a number: \"))\n",
    "print(\"Is palindrome?\", is_palindrome(num))# calling lambda function with entered number\n"
   ]
  },
  {
   "cell_type": "code",
   "execution_count": 76,
   "id": "ab762717-b79b-423c-bd67-abedae46848f",
   "metadata": {},
   "outputs": [
    {
     "name": "stdout",
     "output_type": "stream",
     "text": [
      "Sum: 15\n"
     ]
    }
   ],
   "source": [
    "# 5. Write a function that takes a variable number of arguments (*args) and returns their sum.\n",
    "def sum_args(*args):  #used *args to pass the multiple arguemnets\n",
    "    return sum(args) # returning sum of all arguments using sum() function\n",
    "\n",
    "print(\"Sum:\", sum_args(1, 2, 3, 4, 5))  "
   ]
  },
  {
   "cell_type": "code",
   "execution_count": 84,
   "id": "f141897e-a3eb-418c-afb5-d456568a763f",
   "metadata": {},
   "outputs": [
    {
     "name": "stdout",
     "output_type": "stream",
     "text": [
      "Student Details - Name: Ashutosh, Age: 27, Grade: A\n"
     ]
    }
   ],
   "source": [
    "# 6. Write a function that uses **kwargs to accept a student’s details (name, age, and grade) \n",
    "# and print them in a formatted string.\n",
    "def student_details(**kwargs): # by using ** we are passing multiple key,value pairs\n",
    "    print(f\"Student Details - Name: {kwargs.get('name')}, Age: {kwargs.get('age')}, Grade: {kwargs.get('grade')}\")\n",
    "\n",
    "student_details(name=\"Ashutosh\", age=27, grade=\"A\") #here we are passing pairs as parameters of the function  \n"
   ]
  },
  {
   "cell_type": "code",
   "execution_count": 86,
   "id": "46128cc8-20fb-4476-bb7d-e92920af05cb",
   "metadata": {},
   "outputs": [
    {
     "name": "stdout",
     "output_type": "stream",
     "text": [
      "Hello, my name is Ashutosh.\n"
     ]
    }
   ],
   "source": [
    "# 7. Create a class Person with attributes name and age. Add a method greet that \n",
    "#    prints a greeting with the name. Create an object of the class and call the greet method.\n",
    "class Person:\n",
    "    def __init__(self, name, age):\n",
    "        self.name = name \n",
    "        self.age = age\n",
    "\n",
    "    def greet(self):\n",
    "        print(f\"Hello, my name is {self.name}.\")\n",
    "\n",
    "person = Person(\"Ashutosh\", 27) #creating obj of class\n",
    "person.greet()# calling greet method\n"
   ]
  },
  {
   "cell_type": "code",
   "execution_count": 26,
   "id": "34e5add1-f254-4bae-9094-7ebb0f5044dc",
   "metadata": {},
   "outputs": [
    {
     "name": "stdout",
     "output_type": "stream",
     "text": [
      "I am a dog.\n"
     ]
    }
   ],
   "source": [
    "# 8. Create a base class Animal with a method speak that prints \"I am an animal.\"\n",
    "#    Create a derived class Dog that overrides the speak method to print \"I am a dog.\"\n",
    "class Animal:\n",
    "    def speak(self):\n",
    "        print(\"I am an animal.\")\n",
    "\n",
    "class Dog(Animal):\n",
    "    def speak(self):\n",
    "        print(\"I am a dog.\")\n",
    "\n",
    "dog = Dog() # creating obj of class Dog\n",
    "dog.speak()\n"
   ]
  },
  {
   "cell_type": "code",
   "execution_count": 28,
   "id": "ed203dd0-f5b7-499e-83dc-43ab31452077",
   "metadata": {},
   "outputs": [
    {
     "name": "stdout",
     "output_type": "stream",
     "text": [
      "Car Brand: Maruti, Year: 2020\n"
     ]
    }
   ],
   "source": [
    "# 9. Define a class Car with attributes brand and year. Add a method to display the car details. \n",
    "#    Use the __init__ method to initialize the attributes.\n",
    "class Car:\n",
    "    def __init__(self, brand, year):\n",
    "        self.brand = brand\n",
    "        self.year = year\n",
    "\n",
    "    def display_details(self):\n",
    "        print(f\"Car Brand: {self.brand}, Year: {self.year}\")\n",
    "\n",
    "car = Car(\"Maruti\", 2020)\n",
    "car.display_details()\n"
   ]
  },
  {
   "cell_type": "code",
   "execution_count": 20,
   "id": "f7ba7218-a0e3-404f-bde2-b93aed94b1d5",
   "metadata": {},
   "outputs": [
    {
     "name": "stdout",
     "output_type": "stream",
     "text": [
      "1\n",
      "2\n",
      "3\n",
      "4\n",
      "5\n",
      "6\n",
      "7\n",
      "8\n",
      "9\n",
      "10\n"
     ]
    }
   ],
   "source": [
    "# 10. Write a program to print the first 10 natural numbers using a for loop.\n",
    "for i in range(1, 11):\n",
    "    print(i)\n"
   ]
  },
  {
   "cell_type": "code",
   "execution_count": 30,
   "id": "376ff7a0-6609-4594-aaa4-87cb82025c86",
   "metadata": {},
   "outputs": [
    {
     "name": "stdout",
     "output_type": "stream",
     "text": [
      "Sum of all numbers in the list: 50\n"
     ]
    }
   ],
   "source": [
    "# 11. Write a program to calculate the sum of all numbers in a list: [5, 10, 15, 20] using a for loop.\n",
    "nums = [5, 10, 15, 20]\n",
    "total = 0\n",
    "for num in nums:\n",
    "    total += num\n",
    "print(\"Sum of all numbers in the list:\", total)\n"
   ]
  },
  {
   "cell_type": "code",
   "execution_count": 34,
   "id": "740a5cd2-f1e2-4e76-a794-60955134a3b6",
   "metadata": {},
   "outputs": [
    {
     "name": "stdin",
     "output_type": "stream",
     "text": [
      "Enter a number to display its multiplication table:  3\n"
     ]
    },
    {
     "name": "stdout",
     "output_type": "stream",
     "text": [
      "3\n",
      "6\n",
      "9\n",
      "12\n",
      "15\n",
      "18\n",
      "21\n",
      "24\n",
      "27\n",
      "30\n"
     ]
    }
   ],
   "source": [
    "# 12. Write a Python program to print the multiplication table of a given number using a while loop.\n",
    "num = int(input(\"Enter a number to display its multiplication table: \"))\n",
    "i = 1\n",
    "while i <= 10:\n",
    "    print(f\"{num * i}\")\n",
    "    i += 1\n"
   ]
  },
  {
   "cell_type": "code",
   "execution_count": null,
   "id": "baf27dd8-b959-4579-9f6c-92aa0efd2373",
   "metadata": {},
   "outputs": [],
   "source": []
  },
  {
   "cell_type": "markdown",
   "id": "9d0eca67-81a9-48db-95d1-6e0cf3e6dcda",
   "metadata": {},
   "source": [
    "## NUMPY"
   ]
  },
  {
   "cell_type": "code",
   "execution_count": 38,
   "id": "a7f52fed-515a-4227-9c7f-a70c4ff80dce",
   "metadata": {},
   "outputs": [
    {
     "name": "stdout",
     "output_type": "stream",
     "text": [
      "Array of zeros:\n",
      " [[0. 0. 0. 0.]\n",
      " [0. 0. 0. 0.]\n",
      " [0. 0. 0. 0.]]\n"
     ]
    }
   ],
   "source": [
    "# 1. Create a NumPy array of zeros with shape (3, 4).\n",
    "import numpy as np\n",
    "zeros_array = np.zeros((3, 4)) #function to create array with all zeroes of shape(3,4)\n",
    "print(\"Array of zeros:\\n\", zeros_array)\n"
   ]
  },
  {
   "cell_type": "code",
   "execution_count": 40,
   "id": "23825e63-813c-4962-9966-349751ab038f",
   "metadata": {},
   "outputs": [
    {
     "name": "stdout",
     "output_type": "stream",
     "text": [
      "Array of ones:\n",
      " [[1. 1. 1. 1. 1.]\n",
      " [1. 1. 1. 1. 1.]]\n"
     ]
    }
   ],
   "source": [
    "# 2. Create a NumPy array of ones with shape (2, 5).\n",
    "ones_array = np.ones((2, 5)) #function to create array with all ones of shape(2,3)\n",
    "print(\"Array of ones:\\n\", ones_array)\n"
   ]
  },
  {
   "cell_type": "code",
   "execution_count": 58,
   "id": "797f0570-ea48-477e-ac24-e06778c70515",
   "metadata": {},
   "outputs": [
    {
     "name": "stdout",
     "output_type": "stream",
     "text": [
      "Matrix with values from 1 to 10:\n",
      " [[ 1  2  3  4  5]\n",
      " [ 6  7  8  9 10]]\n"
     ]
    }
   ],
   "source": [
    "# 3. Create a NumPy matrix with the values from 1 to 10 using np.arange().\n",
    "matrix = np.arange(1, 11).reshape(2, 5) #arange function to create array of nos. 1-10 (10 nos.) then reshaping into 2x5 mat\n",
    "print(\"Matrix with values from 1 to 10:\\n\", matrix)\n"
   ]
  },
  {
   "cell_type": "code",
   "execution_count": 44,
   "id": "c5523caa-2229-4f61-8b6d-08cf3bb66240",
   "metadata": {},
   "outputs": [
    {
     "name": "stdout",
     "output_type": "stream",
     "text": [
      "Array from 0 to 1 with step size 0.1: [0.  0.1 0.2 0.3 0.4 0.5 0.6 0.7 0.8 0.9 1. ]\n"
     ]
    }
   ],
   "source": [
    "# 4. Create a NumPy array with numbers from 0 to 1 (inclusive) with a step size of 0.1 using np.arange().\n",
    "array = np.arange(0, 1.1, 0.1)\n",
    "print(\"Array from 0 to 1 with step size 0.1:\", array)\n"
   ]
  },
  {
   "cell_type": "code",
   "execution_count": 60,
   "id": "7c7930fd-4293-413b-8a84-45474b4dfe3a",
   "metadata": {},
   "outputs": [
    {
     "name": "stdout",
     "output_type": "stream",
     "text": [
      "Array with 10 equally spaced values between 0 and 1: [0.  0.1 0.2 0.3 0.4 0.5 0.6 0.7 0.8 0.9]\n"
     ]
    }
   ],
   "source": [
    "# 5. Create a NumPy array with 10 equally spaced values between 0 and 1 using np.linspace() with endpoint=False.\n",
    "linspace_array = np.linspace(0, 1, 10, endpoint=False) #linspace used to create equally spaced values\n",
    "print(\"Array with 10 equally spaced values between 0 and 1:\", linspace_array)\n"
   ]
  },
  {
   "cell_type": "code",
   "execution_count": 48,
   "id": "685f52c6-89e2-4f82-9e60-c4745b654b7a",
   "metadata": {},
   "outputs": [
    {
     "name": "stdout",
     "output_type": "stream",
     "text": [
      "Square root of each element: [1. 2. 3. 4.]\n"
     ]
    }
   ],
   "source": [
    "# 6. Write a NumPy program to compute the square root of each element in the array [1, 4, 9, 16].\n",
    "array = np.array([1, 4, 9, 16]) #converting list into array to use numpy library\n",
    "sqrt_array = np.sqrt(array) #sqrt() function used to calculate square root of array\n",
    "print(\"Square root of each element:\", sqrt_array)\n"
   ]
  },
  {
   "cell_type": "code",
   "execution_count": 50,
   "id": "4f4b5f63-0afb-41b1-84cb-b1a0dffafc6c",
   "metadata": {},
   "outputs": [
    {
     "name": "stdout",
     "output_type": "stream",
     "text": [
      "Sum of all elements: 20\n"
     ]
    }
   ],
   "source": [
    "# 7. Compute the sum of all elements in the array np.array([2, 3, 4, 5, 6]).\n",
    "array = np.array([2, 3, 4, 5, 6])#converting list into array to use numpy library\n",
    "array_sum = np.sum(array)  #sum() function used to calculate sum of array\n",
    "print(\"Sum of all elements:\", array_sum)\n"
   ]
  },
  {
   "cell_type": "code",
   "execution_count": 52,
   "id": "c3f3d5cf-e78c-4fef-99a8-57f0b2ac9666",
   "metadata": {},
   "outputs": [
    {
     "name": "stdout",
     "output_type": "stream",
     "text": [
      "Minimum value in the array: 1\n"
     ]
    }
   ],
   "source": [
    "# 8. Find the minimum value in the array np.array([1, 5, 9, 3, 6]) using np.min().\n",
    "array = np.array([1, 5, 9, 3, 6])   #converting list into array to use numpy library\n",
    "min_value = np.min(array)#min() function used to calculate minimum of array\n",
    "print(\"Minimum value in the array:\", min_value)\n"
   ]
  },
  {
   "cell_type": "code",
   "execution_count": 54,
   "id": "80735396-8e54-477c-83d7-919a62318947",
   "metadata": {},
   "outputs": [
    {
     "name": "stdout",
     "output_type": "stream",
     "text": [
      "Maximum value in the array: 9\n"
     ]
    }
   ],
   "source": [
    "# 9. Find the maximum value in the array np.array([1, 5, 9, 3, 6]) using np.max().\n",
    "array = np.array([1, 5, 9, 3, 6])  #converting list into array to use numpy library\n",
    "max_value = np.max(array)  #max() function used to calculate maximum of array\n",
    "print(\"Maximum value in the array:\", max_value)\n"
   ]
  },
  {
   "cell_type": "code",
   "execution_count": 62,
   "id": "a12b218a-088e-4bc2-bffb-540fe49caa75",
   "metadata": {},
   "outputs": [
    {
     "name": "stdout",
     "output_type": "stream",
     "text": [
      "rounded to the nearest greater integer: [2. 3. 4. 5.]\n"
     ]
    }
   ],
   "source": [
    "# 10. Use np.ceil() to round the elements of the array np.array([1.2, 2.5, 3.7, 4.9]) to the nearest greater integer.\n",
    "array = np.array([1.2, 2.5, 3.7, 4.9])  #converting list into array to use numpy library\n",
    "ceil_array = np.ceil(array) #to round the elements of the array\n",
    "print(\"rounded to the nearest greater integer:\", ceil_array)\n"
   ]
  },
  {
   "cell_type": "code",
   "execution_count": null,
   "id": "5e2fddfb-ff32-490c-8d02-d07213c4d249",
   "metadata": {},
   "outputs": [],
   "source": []
  }
 ],
 "metadata": {
  "kernelspec": {
   "display_name": "Python 3 (ipykernel)",
   "language": "python",
   "name": "python3"
  },
  "language_info": {
   "codemirror_mode": {
    "name": "ipython",
    "version": 3
   },
   "file_extension": ".py",
   "mimetype": "text/x-python",
   "name": "python",
   "nbconvert_exporter": "python",
   "pygments_lexer": "ipython3",
   "version": "3.12.2"
  }
 },
 "nbformat": 4,
 "nbformat_minor": 5
}
